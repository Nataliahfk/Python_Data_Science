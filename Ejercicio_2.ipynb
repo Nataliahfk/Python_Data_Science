{
  "nbformat": 4,
  "nbformat_minor": 0,
  "metadata": {
    "colab": {
      "provenance": [],
      "authorship_tag": "ABX9TyOMAU3keNfLkF4tgZzCgGjR",
      "include_colab_link": true
    },
    "kernelspec": {
      "name": "python3",
      "display_name": "Python 3"
    },
    "language_info": {
      "name": "python"
    }
  },
  "cells": [
    {
      "cell_type": "markdown",
      "metadata": {
        "id": "view-in-github",
        "colab_type": "text"
      },
      "source": [
        "<a href=\"https://colab.research.google.com/github/Nataliahfk/Python_Data_Science/blob/main/Ejercicio_2.ipynb\" target=\"_parent\"><img src=\"https://colab.research.google.com/assets/colab-badge.svg\" alt=\"Open In Colab\"/></a>"
      ]
    },
    {
      "cell_type": "markdown",
      "source": [
        "## Entrenando la programación"
      ],
      "metadata": {
        "id": "aH49EmYAoLwr"
      }
    },
    {
      "cell_type": "markdown",
      "source": [
        "1 - Escribe un programa que pida a la persona usuaria que proporcione dos números y muestre el número más grande.\n",
        "\n"
      ],
      "metadata": {
        "id": "DXdKEjqtoOh0"
      }
    },
    {
      "cell_type": "code",
      "source": [
        "numero_1 = int(input('Ingresa un número: '))\n",
        "numero_2 = int(input('Ingresa otro número: '))\n",
        "\n",
        "if (numero_1 > numero_2):\n",
        "  print(f'El numero {numero_1} es mayor')\n",
        "elif(numero_1 < numero_2):\n",
        "  print(f'El numero {numero_2} es mayor')\n",
        "else:\n",
        "  print('Los números son iguales')"
      ],
      "metadata": {
        "colab": {
          "base_uri": "https://localhost:8080/"
        },
        "id": "wlU4l9mvoP4v",
        "outputId": "9230da30-add6-4eaf-c390-38767ddf32cb"
      },
      "execution_count": 3,
      "outputs": [
        {
          "output_type": "stream",
          "name": "stdout",
          "text": [
            "Ingresa un número: 9\n",
            "Ingresa otro número: 4\n",
            "El numero 9 es mayor\n"
          ]
        }
      ]
    },
    {
      "cell_type": "markdown",
      "source": [
        "2 - Escribe un programa que solicite el porcentaje de crecimiento de producción de una empresa e informe si hubo un crecimiento (porcentaje positivo) o una disminución (porcentaje negativo).\n",
        "\n"
      ],
      "metadata": {
        "id": "V7GkQxCpszmx"
      }
    },
    {
      "cell_type": "code",
      "source": [
        "# Recolectamos el porcentaje\n",
        "variación = float(input('Ingrese el porcentaje de crecimiento: '))\n",
        "\n",
        "# Verificamos si el valor es positivo o negativo con una comparación para ver si el número\n",
        "# es mayor o menor que 0\n",
        "\n",
        "if(variación > 0):\n",
        "  print(f'Hubo un crecimiento del {variación}%')\n",
        "elif (variación < 0):\n",
        "  print(f'Hubo un decrecimiento del {variación}%')\n",
        "else:\n",
        "  print('No hubo crecimiento ni decrecimiento.')"
      ],
      "metadata": {
        "colab": {
          "base_uri": "https://localhost:8080/"
        },
        "id": "wMyRf74Ws199",
        "outputId": "eaf61956-16d8-4794-c46c-e062d1d7af08"
      },
      "execution_count": 8,
      "outputs": [
        {
          "output_type": "stream",
          "name": "stdout",
          "text": [
            "Ingrese el porcentaje de crecimiento: 16.5\n",
            "Hubo un crecimiento del 16.5%\n"
          ]
        }
      ]
    },
    {
      "cell_type": "markdown",
      "source": [
        "3 - Escribe un programa que determine si una letra proporcionada por la persona usuaria es una vocal o una consonante.\n",
        "\n"
      ],
      "metadata": {
        "id": "BtObW4qAuHp4"
      }
    },
    {
      "cell_type": "code",
      "source": [
        "# asigno la lista vocales\n",
        "lista_vocal = 'a,e,i,o,u'\n",
        "# solicito la letra al usuario y la transformo a minúsculas // por si se ingresa una vocal en mayuscula lo lea dentro de la lista_vocal\n",
        "letra = input('Ingresa una letra: ').lower()\n",
        "if(letra in lista_vocal):\n",
        "  print(f'La letra {letra} es una vocal')\n",
        "else:\n",
        "  print(f'La letra {letra} es una consonante')"
      ],
      "metadata": {
        "colab": {
          "base_uri": "https://localhost:8080/"
        },
        "id": "eIHD8ugAt7kG",
        "outputId": "2a66d3aa-3a9e-4142-8156-7d04e569dd1e"
      },
      "execution_count": 16,
      "outputs": [
        {
          "output_type": "stream",
          "name": "stdout",
          "text": [
            "Ingresa una letra: E\n",
            "La letra e es una vocal\n"
          ]
        }
      ]
    },
    {
      "cell_type": "markdown",
      "source": [
        "4 - Escribe un programa que lea valores promedio de precios de un modelo de automóvil durante 3 años consecutivos y muestre el valor más alto y más bajo entre esos tres años.\n",
        "\n"
      ],
      "metadata": {
        "id": "WObFs0fDwBN1"
      }
    },
    {
      "cell_type": "code",
      "source": [
        "# Recolectamos los precios de los 3 años\n",
        "prom_ano1 = float(input('Ingrese el precio promedio del automóvil en el primer año: '))\n",
        "prom_ano2 = float(input('Ingrese el precio promedio del automóvil en el segundo año: '))\n",
        "prom_ano3 = float(input('Ingrese el precio promedio del automóvil en el tercer año: '))\n",
        "\n",
        "# Determinamos el valor más alto mediante comparaciones\n",
        "prom_mayor = prom_ano1\n",
        "if prom_ano2 > prom_mayor:\n",
        "  prom_mayor = prom_ano2\n",
        "if prom_ano3 > prom_mayor:\n",
        "  prom_mayor = prom_ano3\n",
        "\n",
        "# Determinamos el valor más bajo mediante comparaciones\n",
        "prom_menor = prom_ano1\n",
        "if prom_ano2 < prom_menor:\n",
        "  prom_menor = prom_ano2\n",
        "if prom_ano3 < prom_menor:\n",
        "  prom_menor = prom_ano3\n",
        "# Mostramos los resultados\n",
        "print(f'El promedio más alto fue de $ {prom_mayor}.')\n",
        "print(f'El promedio más bajo fue de $ {prom_menor}.')"
      ],
      "metadata": {
        "colab": {
          "base_uri": "https://localhost:8080/"
        },
        "id": "To1wFkQtyFAz",
        "outputId": "69c6ac80-b469-48ee-f266-3deb44e1cef9"
      },
      "execution_count": 25,
      "outputs": [
        {
          "output_type": "stream",
          "name": "stdout",
          "text": [
            "Ingrese el precio promedio del automóvil en el primer año: 12.5\n",
            "Ingrese el precio promedio del automóvil en el segundo año: 6.8\n",
            "Ingrese el precio promedio del automóvil en el tercer año: 22.9\n",
            "El promedio más alto fue de $ 22.9.\n",
            "El promedio más bajo fue de $ 6.8.\n"
          ]
        }
      ]
    },
    {
      "cell_type": "markdown",
      "source": [
        "5 - Escribe un programa que pregunte sobre el precio de tres productos e indique cuál es el producto más barato para comprar.\n",
        "\n"
      ],
      "metadata": {
        "id": "k-sxCVQ61pXZ"
      }
    },
    {
      "cell_type": "code",
      "source": [
        "# Recolectamos los precios de los 3 productos\n",
        "producto1 = int(input('Ingrese el valor del primer producto: '))\n",
        "producto2 = int(input('Ingrese el valor del segundo producto: '))\n",
        "producto3 = int(input('Ingrese el valor del tercer producto: '))\n",
        "\n",
        "# Usamos el operador lógico `and` para determinar cuál es el precio más bajo entre los 3 productos\n",
        "# ya que esto nos permite hacer una comparación de 3 entradas\n",
        "if producto1 < producto2 and producto1 < producto3:\n",
        "    print('El primer producto es el más barato.')\n",
        "elif producto2 < producto1 and producto2 < producto3:\n",
        "    print('El segundo producto es el más barato.')\n",
        "else:\n",
        "    print('El tercer producto es el más barato.')"
      ],
      "metadata": {
        "colab": {
          "base_uri": "https://localhost:8080/"
        },
        "id": "hYsEUWR01rtp",
        "outputId": "8a26f1d7-b379-4185-8483-808b90bd0aa4"
      },
      "execution_count": 31,
      "outputs": [
        {
          "output_type": "stream",
          "name": "stdout",
          "text": [
            "Ingrese el valor del primer producto: 100\n",
            "Ingrese el valor del segundo producto: 29\n",
            "Ingrese el valor del tercer producto: 10\n",
            "El tercer producto es el más barato.\n"
          ]
        }
      ]
    },
    {
      "cell_type": "markdown",
      "source": [
        "6 - Escribe un programa que lea tres números y los muestre en orden descendente.\n",
        "\n"
      ],
      "metadata": {
        "id": "Ydi7QbHdtO1_"
      }
    },
    {
      "cell_type": "code",
      "source": [
        "# Recolectamos los 3 números\n",
        "num1 = int(input('Ingresar primer número: '))\n",
        "num2 = int(input('Ingresar segundo número: '))\n",
        "num3 = int(input('Ingresar tercer número: '))\n",
        "\n",
        "if (num1 >= num2) and (num1 >= num3):\n",
        "  print(num1)\n",
        "  if (num2 >= num3):\n",
        "    print(num2)\n",
        "    print(num3)\n",
        "  else:\n",
        "    print(num3)\n",
        "    print(num2)\n",
        "elif (num2 >= num1) and (num2 >= num3):\n",
        "  print(num2)\n",
        "  if (num3 >= num1):\n",
        "    print(num3)\n",
        "    print(num1)\n",
        "  else:\n",
        "    print(num1)\n",
        "    print(num3)\n",
        "else:\n",
        "  print(num3)\n",
        "  if(num1 >= num2):\n",
        "    print(num1)\n",
        "    print(num2)\n",
        "  else:\n",
        "    print(num2)\n",
        "    print(num1)\n"
      ],
      "metadata": {
        "colab": {
          "base_uri": "https://localhost:8080/"
        },
        "id": "yoKXXrhjtPlg",
        "outputId": "4c7ce2d2-3f96-4a34-b2f9-bc00c16edc59"
      },
      "execution_count": 4,
      "outputs": [
        {
          "output_type": "stream",
          "name": "stdout",
          "text": [
            "Ingresar primer número: 3\n",
            "Ingresar segundo número: 6\n",
            "Ingresar tercer número: 8\n",
            "8\n",
            "6\n",
            "3\n"
          ]
        }
      ]
    },
    {
      "cell_type": "markdown",
      "source": [
        "7 -Escribe un programa que pregunte en qué turno estudia la persona usuaria (\"mañana\", \"tarde\" o \"noche\") y muestre el mensaje \"¡Buenos Días!\", \"¡Buenas Tardes!\", \"¡Buenas Noches!\" o \"Valor Inválido!\", según el caso.\n",
        "\n"
      ],
      "metadata": {
        "id": "wvH67RHoxBt6"
      }
    },
    {
      "cell_type": "code",
      "source": [
        "turno = input('Ingresa en que turno estudias mañana, tarde, noche: ').lower()\n",
        "\n",
        "if(turno == 'mañana'):\n",
        "  print(\"¡Buenos Días!\")\n",
        "elif (turno == 'tarde'):\n",
        "  print('¡Buenas Tardes!')\n",
        "elif (turno == 'noche'):\n",
        "  print('¡Buenas Noches!')\n",
        "else:\n",
        "  print('Valor Inválido!')\n",
        "\n"
      ],
      "metadata": {
        "colab": {
          "base_uri": "https://localhost:8080/"
        },
        "id": "ZjWTipPOxCas",
        "outputId": "0be81883-fa68-4f74-8705-16d3418720ff"
      },
      "execution_count": 9,
      "outputs": [
        {
          "output_type": "stream",
          "name": "stdout",
          "text": [
            "Ingresa en que turno estudias mañana, tarde, noche: hola\n",
            "Valor Inválido!\n"
          ]
        }
      ]
    },
    {
      "cell_type": "markdown",
      "source": [
        "8 - Escribe un programa que solicite un número entero a la persona usuaria y determine si es par o impar. Pista: Puedes usar el operador módulo (%).\n",
        "\n"
      ],
      "metadata": {
        "id": "a7JLbKjfyb-F"
      }
    },
    {
      "cell_type": "code",
      "source": [
        "numero = int(input('Ingresa un número: '))\n",
        "\n",
        "if (numero % 2 == 0):\n",
        "  print(f'El número {numero} es par')\n",
        "else:\n",
        "  print(f'El número {numero} es impar')"
      ],
      "metadata": {
        "colab": {
          "base_uri": "https://localhost:8080/"
        },
        "id": "34mrmcErygJa",
        "outputId": "bc5375d9-e365-4d95-a3e2-7e898f520353"
      },
      "execution_count": 11,
      "outputs": [
        {
          "output_type": "stream",
          "name": "stdout",
          "text": [
            "Ingresa un número: 9\n",
            "El número 9 es impar\n"
          ]
        }
      ]
    },
    {
      "cell_type": "markdown",
      "source": [
        "9 - Escribe un programa que pida un número a la persona usuaria y le informe si es entero o decimal.\n",
        "\n"
      ],
      "metadata": {
        "id": "g_sxdma9z0u3"
      }
    },
    {
      "cell_type": "code",
      "source": [
        "num = float(input('Ingresa un número: '))\n",
        "\n",
        "if (num % 1 == 0):\n",
        "  print(f'El número {num} es entero')\n",
        "else:\n",
        "  print(f'El número {num} es decimal')"
      ],
      "metadata": {
        "colab": {
          "base_uri": "https://localhost:8080/"
        },
        "id": "fu0RMWpqz4GQ",
        "outputId": "e5aa1530-8255-410f-8b35-7c32f543354f"
      },
      "execution_count": 17,
      "outputs": [
        {
          "output_type": "stream",
          "name": "stdout",
          "text": [
            "Ingresa un número: 66\n",
            "El número 66.0 es entero\n"
          ]
        }
      ]
    },
    {
      "cell_type": "markdown",
      "source": [
        "## Momento de los proyectos"
      ],
      "metadata": {
        "id": "FYRx_J7H24pj"
      }
    },
    {
      "cell_type": "markdown",
      "source": [
        "10 - Un programa debe ser escrito para leer dos números y luego preguntar a la persona usuaria qué operación desea realizar. El resultado de la operación debe incluir información sobre el número, si es par o impar, positivo o negativo, e entero o decimal.\n",
        "\n"
      ],
      "metadata": {
        "id": "b-9PHA1I26hk"
      }
    },
    {
      "cell_type": "code",
      "source": [
        "num1 = float(input('Ingresa el primer número: '))\n",
        "num2 = float(input('Ingresa el segundo número: '))\n",
        "operacion = (input('Ingrese la operación deseada (+, -, *, /): '))\n",
        "\n",
        "# Verificamos la operación seleccionada y realizamos la operación matemática según la elección\n",
        "\n",
        "if(operacion == '+'):\n",
        "  resultado = num1 + num2\n",
        "elif(operacion == '-'):\n",
        "  resultado = num1 - num2\n",
        "elif(operacion == '*'):\n",
        "  resultado = num1 * num2\n",
        "elif(operacion == '/'):\n",
        "  resultado = num1 / num2\n",
        "else: # Especificamos un resultado en caso de que el usuario no ingrese una de las operaciones correctamente.\n",
        "    print('Operación no válida, el resultado de la operación será 0')\n",
        "print(resultado)\n",
        "# Realizamos las mismas verificaciones que en preguntas anteriores para generar el informe del cálculo entre números\n",
        "if(resultado % 1 == 0):\n",
        "  print('El resultado es número entero')\n",
        "else:\n",
        "  print('El resultado es número decimal')\n",
        "\n",
        "if(resultado >0):\n",
        "    print('El resultado es positivo.')\n",
        "else:\n",
        "    print('El resultado es negativo')\n",
        "\n",
        "if(resultado % 2 == 0):\n",
        "  print('El resultado es número par')\n",
        "else:\n",
        "  print('El resultado es número impar')\n",
        "\n",
        "\n"
      ],
      "metadata": {
        "colab": {
          "base_uri": "https://localhost:8080/"
        },
        "id": "Jf5aR8ex28HV",
        "outputId": "f6d52bc6-ea0d-4224-884b-b105d766b468"
      },
      "execution_count": 26,
      "outputs": [
        {
          "output_type": "stream",
          "name": "stdout",
          "text": [
            "Ingresa el primer número: 4\n",
            "Ingresa el segundo número: 2\n",
            "Ingrese la operación deseada (+, -, *, /): /\n",
            "2.0\n",
            "El resultado es número entero\n",
            "El resultado es positivo.\n",
            "El resultado es número par\n"
          ]
        }
      ]
    },
    {
      "cell_type": "markdown",
      "source": [
        "11 - Escribe un programa que pida a la persona usuaria tres números que representan los lados de un triángulo. El programa debe informar si los valores pueden utilizarse para formar un triángulo y, en caso afirmativo, si es equilátero, isósceles o escaleno. Ten en cuenta algunas sugerencias:\n",
        "\n"
      ],
      "metadata": {
        "id": "P0xupsSr6bpG"
      }
    },
    {
      "cell_type": "code",
      "source": [
        "\"\"\"\n",
        "Tres lados forman un triángulo cuando la suma de cualesquiera dos lados es mayor que el tercero;\n",
        "Triángulo Equilátero: tres lados iguales;\n",
        "Triángulo Isósceles: dos lados iguales;\n",
        "Triángulo Escaleno: tres lados diferentes.\n",
        "\"\"\"\n",
        "\n",
        "# Recolectamos los lados de un triángulo\n",
        "print('Estamos recopilando los lados de un triángulo.')\n",
        "lado1 = float(input('Ingresa el primer valor: '))\n",
        "lado2 = float(input('Ingresa el segundo valor: '))\n",
        "lado3 = float(input('Ingresa el tercer valor: '))\n",
        "\n",
        "# Verificamos si los lados pueden formar un triángulo\n",
        "if(lado1 + lado2 > lado3) and (lado1+ lado3 > lado2) and (lado2 + lado3 > lado1):\n",
        "  print('¡Los valores pueden formar un triángulo!')\n",
        "# Comparamos los lados para determinar el tipo de triángulo\n",
        "  if(lado1 == lado2) and (lado2 == lado3):\n",
        "    print('El triángulo es equilátero.')\n",
        "  elif(lado1 != lado2) and (lado1 != lado3) and (lado2 != lado3):\n",
        "    print('El triángulo es escaleno.')\n",
        "  else:\n",
        "    print('El triángulo es isósceles.')\n",
        "else:\n",
        "  print('¡Los valores no pueden formar un triángulo!')\n",
        "\n",
        "\n"
      ],
      "metadata": {
        "colab": {
          "base_uri": "https://localhost:8080/"
        },
        "id": "472L08YC6hjR",
        "outputId": "b45a398d-660e-433e-b9bb-286876440acc"
      },
      "execution_count": 3,
      "outputs": [
        {
          "output_type": "stream",
          "name": "stdout",
          "text": [
            "Estamos recopilando los lados de un triángulo.\n",
            "Ingresa el primer valor: 2\n",
            "Ingresa el segundo valor: 2\n",
            "Ingresa el tercer valor: 2\n",
            "¡Los valores pueden formar un triángulo!\n",
            "El triángulo es equilátero.\n"
          ]
        }
      ]
    },
    {
      "cell_type": "markdown",
      "source": [
        "12 - Un establecimiento está vendiendo combustibles con descuentos variables. Para el etanol, si la cantidad comprada es de hasta 15 litros, el descuento será del 2% por litro. En caso contrario, será del 4% por litro. Para el diésel, si la cantidad comprada es de hasta 15 litros, el descuento será del 3% por litro. En caso contrario, será del 5% por litro. El precio por litro de diésel es de 2,00 dolares y el precio por litro de etanol es de 1,70 dolares. Escribe un programa que lea la cantidad de litros vendidos y el tipo de combustible (E para etanol y D para diésel) y calcule el valor a pagar por el cliente. Ten en cuenta algunas sugerencias:\n"
      ],
      "metadata": {
        "id": "_T9VnPF59UsO"
      }
    },
    {
      "cell_type": "code",
      "source": [
        "\"\"\"\n",
        "El valor del descuento será el producto del precio por litro, la cantidad de litros y el valor del descuento.\n",
        "El valor a pagar por un cliente será el resultado de la multiplicación del precio por litro por la cantidad de\n",
        "litros menos el valor del descuento resultante del cálculo.\n",
        "\"\"\"\n",
        "# Recolectamos la cantidad de litros y el tipo de combustible,\n",
        "# convirtiendo el carácter en mayúsculas para facilitar nuestro análisis\n",
        "cantidad_litros = float(input('Ingrese la cantidad de litros vendidos: '))\n",
        "tipo_combustible = input('Ingrese el tipo de combustible (E para etanol y D para diésel): ').upper()\n",
        "# Verificamos primero el tipo de combustible\n",
        "if(tipo_combustible == 'E'):\n",
        "  # Establecemos el precio por litro de etanol\n",
        "  precio_litro = 1.70\n",
        "  # Según la cantidad de litros, establecemos el descuento correspondiente\n",
        "  if cantidad_litros <= 15:\n",
        "    descuento = 0.02\n",
        "  else:\n",
        "    descuento = 0.04\n",
        "elif(tipo_combustible == 'D'):\n",
        "  # Establecemos el precio por litro del diésel\n",
        "  precio_litro = 2.00\n",
        "  # Según la cantidad de litros, establecemos el descuento correspondiente\n",
        "  if cantidad_litros <= 15:\n",
        "    descuento = 0.03\n",
        "  else:\n",
        "    descuento = 0.05\n",
        "# En caso de error en la especificación del tipo de combustible,\n",
        "# consideramos las entradas como no válidas y establecemos los precios y descuentos en 0\n",
        "else:\n",
        "  print('Entradas no válidas!')\n",
        "  precio_litro = 0\n",
        "  descuento = 0\n",
        "\n",
        "# Calculamos el valor del descuento, seguido del cálculo del precio descontado\n",
        "valor_descuento = (cantidad_litros * precio_litro) * descuento\n",
        "total_pagar =  (cantidad_litros * precio_litro) -valor_descuento\n",
        "\n",
        "# Resultado\n",
        "print(f'Valor a pagar por el cliente: $ {total_pagar} ')\n",
        "\n",
        "\n"
      ],
      "metadata": {
        "colab": {
          "base_uri": "https://localhost:8080/"
        },
        "id": "L8lb3F0i9Vz9",
        "outputId": "6ee5f4af-b349-4cab-e849-370038c7d9b5"
      },
      "execution_count": 5,
      "outputs": [
        {
          "output_type": "stream",
          "name": "stdout",
          "text": [
            "Ingrese la cantidad de litros vendidos: 12\n",
            "Ingrese el tipo de combustible (E para etanol y D para diésel): d\n",
            "Valor a pagar por el cliente: $ 23.28 \n"
          ]
        }
      ]
    },
    {
      "cell_type": "markdown",
      "source": [
        "13 - En una empresa de venta de bienes raíces, debes crear un código que analice los datos de ventas anuales para ayudar a la dirección en la toma de decisiones. El código debe recopilar los datos de cantidad de ventas durante los años 2022 y 2023 y calcular la variación porcentual. A partir del valor de la variación, se deben proporcionar las siguientes sugerencias:\n"
      ],
      "metadata": {
        "id": "-axDiG81Bjxp"
      }
    },
    {
      "cell_type": "code",
      "source": [
        "\"\"\"\n",
        "Para una variación superior al 20%: bonificación para el equipo de ventas.\n",
        "Para una variación entre el 2% y el 20%: pequeña bonificación para el equipo de ventas.\n",
        "Para una variación entre el 2% y el -10%: planificación de políticas de incentivo a las ventas.\n",
        "Para bonificaciones inferiores al -10%: recorte de gastos.\n",
        "\"\"\"\n",
        "\n",
        "# Recolectamos las ventas de los dos años\n",
        "venta_2022 = float(input('Ingrese la cantidad de ventas en 2022: '))\n",
        "venta_2023 = float(input('Ingrese la cantidad de ventas en 2023: '))\n",
        "\n",
        "# Calculamos la variación porcentual entre las ventas de los años 2022 y 2023\n",
        "var_porcentual = 100 * (venta_2023 - venta_2022) / (venta_2022)\n",
        "print(f'La variación porcentual es : {var_porcentual} ')\n",
        "# Análisis condicional de la variación porcentual para determinar la sugerencia a enviar\n",
        "if var_porcentual > 20:\n",
        "  print('bonificación para el equipo de ventas.')\n",
        "elif 2 <= var_porcentual <= 20:\n",
        "  print('pequeña bonificación para el equipo de ventas.')\n",
        "elif 2 >= var_porcentual >= -10:\n",
        "  print('Planificación de políticas de incentivo a las ventas.')\n",
        "else:\n",
        "  print('Recorte de gastos.')"
      ],
      "metadata": {
        "colab": {
          "base_uri": "https://localhost:8080/"
        },
        "id": "0mLgnq5_B8S2",
        "outputId": "6ab186c3-87e8-46c7-90f2-7810c620d71a"
      },
      "execution_count": 14,
      "outputs": [
        {
          "output_type": "stream",
          "name": "stdout",
          "text": [
            "Ingrese la cantidad de ventas en 2022: 100\n",
            "Ingrese la cantidad de ventas en 2023: 89\n",
            "La variación porcentual es : -11.0 \n",
            "Recorte de gastos.\n"
          ]
        }
      ]
    }
  ]
}