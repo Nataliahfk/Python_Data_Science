{
  "nbformat": 4,
  "nbformat_minor": 0,
  "metadata": {
    "colab": {
      "provenance": [],
      "authorship_tag": "ABX9TyO01nS51tVVfc6W7WnA6e6m",
      "include_colab_link": true
    },
    "kernelspec": {
      "name": "python3",
      "display_name": "Python 3"
    },
    "language_info": {
      "name": "python"
    }
  },
  "cells": [
    {
      "cell_type": "markdown",
      "metadata": {
        "id": "view-in-github",
        "colab_type": "text"
      },
      "source": [
        "<a href=\"https://colab.research.google.com/github/Nataliahfk/Python_Data_Science/blob/main/Ejercicio_2.ipynb\" target=\"_parent\"><img src=\"https://colab.research.google.com/assets/colab-badge.svg\" alt=\"Open In Colab\"/></a>"
      ]
    },
    {
      "cell_type": "markdown",
      "source": [
        "## Entrenando la programación"
      ],
      "metadata": {
        "id": "aH49EmYAoLwr"
      }
    },
    {
      "cell_type": "markdown",
      "source": [
        "1 - Escribe un programa que pida a la persona usuaria que proporcione dos números y muestre el número más grande.\n",
        "\n"
      ],
      "metadata": {
        "id": "DXdKEjqtoOh0"
      }
    },
    {
      "cell_type": "code",
      "source": [
        "numero_1 = int(input('Ingresa un número: '))\n",
        "numero_2 = int(input('Ingresa otro número: '))\n",
        "\n",
        "if (numero_1 > numero_2):\n",
        "  print(f'El numero {numero_1} es mayor')\n",
        "elif(numero_1 < numero_2):\n",
        "  print(f'El numero {numero_2} es mayor')\n",
        "else:\n",
        "  print('Los números son iguales')"
      ],
      "metadata": {
        "colab": {
          "base_uri": "https://localhost:8080/"
        },
        "id": "wlU4l9mvoP4v",
        "outputId": "9230da30-add6-4eaf-c390-38767ddf32cb"
      },
      "execution_count": 3,
      "outputs": [
        {
          "output_type": "stream",
          "name": "stdout",
          "text": [
            "Ingresa un número: 9\n",
            "Ingresa otro número: 4\n",
            "El numero 9 es mayor\n"
          ]
        }
      ]
    },
    {
      "cell_type": "markdown",
      "source": [
        "2 - Escribe un programa que solicite el porcentaje de crecimiento de producción de una empresa e informe si hubo un crecimiento (porcentaje positivo) o una disminución (porcentaje negativo).\n",
        "\n"
      ],
      "metadata": {
        "id": "V7GkQxCpszmx"
      }
    },
    {
      "cell_type": "code",
      "source": [
        "# Recolectamos el porcentaje\n",
        "variación = float(input('Ingrese el porcentaje de crecimiento: '))\n",
        "\n",
        "# Verificamos si el valor es positivo o negativo con una comparación para ver si el número\n",
        "# es mayor o menor que 0\n",
        "\n",
        "if(variación > 0):\n",
        "  print(f'Hubo un crecimiento del {variación}%')\n",
        "elif (variación < 0):\n",
        "  print(f'Hubo un decrecimiento del {variación}%')\n",
        "else:\n",
        "  print('No hubo crecimiento ni decrecimiento.')"
      ],
      "metadata": {
        "colab": {
          "base_uri": "https://localhost:8080/"
        },
        "id": "wMyRf74Ws199",
        "outputId": "eaf61956-16d8-4794-c46c-e062d1d7af08"
      },
      "execution_count": 8,
      "outputs": [
        {
          "output_type": "stream",
          "name": "stdout",
          "text": [
            "Ingrese el porcentaje de crecimiento: 16.5\n",
            "Hubo un crecimiento del 16.5%\n"
          ]
        }
      ]
    },
    {
      "cell_type": "markdown",
      "source": [
        "3 - Escribe un programa que determine si una letra proporcionada por la persona usuaria es una vocal o una consonante.\n",
        "\n"
      ],
      "metadata": {
        "id": "BtObW4qAuHp4"
      }
    },
    {
      "cell_type": "code",
      "source": [
        "# asigno la lista vocales\n",
        "lista_vocal = 'a,e,i,o,u'\n",
        "# solicito la letra al usuario y la transformo a minúsculas // por si se ingresa una vocal en mayuscula lo lea dentro de la lista_vocal\n",
        "letra = input('Ingresa una letra: ').lower()\n",
        "if(letra in lista_vocal):\n",
        "  print(f'La letra {letra} es una vocal')\n",
        "else:\n",
        "  print(f'La letra {letra} es una consonante')"
      ],
      "metadata": {
        "colab": {
          "base_uri": "https://localhost:8080/"
        },
        "id": "eIHD8ugAt7kG",
        "outputId": "2a66d3aa-3a9e-4142-8156-7d04e569dd1e"
      },
      "execution_count": 16,
      "outputs": [
        {
          "output_type": "stream",
          "name": "stdout",
          "text": [
            "Ingresa una letra: E\n",
            "La letra e es una vocal\n"
          ]
        }
      ]
    },
    {
      "cell_type": "markdown",
      "source": [
        "4 - Escribe un programa que lea valores promedio de precios de un modelo de automóvil durante 3 años consecutivos y muestre el valor más alto y más bajo entre esos tres años.\n",
        "\n"
      ],
      "metadata": {
        "id": "WObFs0fDwBN1"
      }
    },
    {
      "cell_type": "code",
      "source": [
        "# Recolectamos los precios de los 3 años\n",
        "prom_ano1 = float(input('Ingrese el precio promedio del automóvil en el primer año: '))\n",
        "prom_ano2 = float(input('Ingrese el precio promedio del automóvil en el segundo año: '))\n",
        "prom_ano3 = float(input('Ingrese el precio promedio del automóvil en el tercer año: '))\n",
        "\n",
        "# Determinamos el valor más alto mediante comparaciones\n",
        "prom_mayor = prom_ano1\n",
        "if prom_ano2 > prom_mayor:\n",
        "  prom_mayor = prom_ano2\n",
        "if prom_ano3 > prom_mayor:\n",
        "  prom_mayor = prom_ano3\n",
        "\n",
        "# Determinamos el valor más bajo mediante comparaciones\n",
        "prom_menor = prom_ano1\n",
        "if prom_ano2 < prom_menor:\n",
        "  prom_menor = prom_ano2\n",
        "if prom_ano3 < prom_menor:\n",
        "  prom_menor = prom_ano3\n",
        "# Mostramos los resultados\n",
        "print(f'El promedio más alto fue de $ {prom_mayor}.')\n",
        "print(f'El promedio más bajo fue de $ {prom_menor}.')"
      ],
      "metadata": {
        "colab": {
          "base_uri": "https://localhost:8080/"
        },
        "id": "To1wFkQtyFAz",
        "outputId": "69c6ac80-b469-48ee-f266-3deb44e1cef9"
      },
      "execution_count": 25,
      "outputs": [
        {
          "output_type": "stream",
          "name": "stdout",
          "text": [
            "Ingrese el precio promedio del automóvil en el primer año: 12.5\n",
            "Ingrese el precio promedio del automóvil en el segundo año: 6.8\n",
            "Ingrese el precio promedio del automóvil en el tercer año: 22.9\n",
            "El promedio más alto fue de $ 22.9.\n",
            "El promedio más bajo fue de $ 6.8.\n"
          ]
        }
      ]
    },
    {
      "cell_type": "markdown",
      "source": [
        "5 - Escribe un programa que pregunte sobre el precio de tres productos e indique cuál es el producto más barato para comprar.\n",
        "\n"
      ],
      "metadata": {
        "id": "k-sxCVQ61pXZ"
      }
    },
    {
      "cell_type": "code",
      "source": [
        "# Recolectamos los precios de los 3 productos\n",
        "producto1 = int(input('Ingrese el valor del primer producto: '))\n",
        "producto2 = int(input('Ingrese el valor del segundo producto: '))\n",
        "producto3 = int(input('Ingrese el valor del tercer producto: '))\n",
        "\n",
        "# Usamos el operador lógico `and` para determinar cuál es el precio más bajo entre los 3 productos\n",
        "# ya que esto nos permite hacer una comparación de 3 entradas\n",
        "if producto1 < producto2 and producto1 < producto3:\n",
        "    print('El primer producto es el más barato.')\n",
        "elif producto2 < producto1 and producto2 < producto3:\n",
        "    print('El segundo producto es el más barato.')\n",
        "else:\n",
        "    print('El tercer producto es el más barato.')"
      ],
      "metadata": {
        "colab": {
          "base_uri": "https://localhost:8080/"
        },
        "id": "hYsEUWR01rtp",
        "outputId": "8a26f1d7-b379-4185-8483-808b90bd0aa4"
      },
      "execution_count": 31,
      "outputs": [
        {
          "output_type": "stream",
          "name": "stdout",
          "text": [
            "Ingrese el valor del primer producto: 100\n",
            "Ingrese el valor del segundo producto: 29\n",
            "Ingrese el valor del tercer producto: 10\n",
            "El tercer producto es el más barato.\n"
          ]
        }
      ]
    },
    {
      "cell_type": "code",
      "source": [],
      "metadata": {
        "id": "wIXND3N03YMv"
      },
      "execution_count": null,
      "outputs": []
    }
  ]
}