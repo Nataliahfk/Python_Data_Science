{
  "nbformat": 4,
  "nbformat_minor": 0,
  "metadata": {
    "colab": {
      "provenance": [],
      "authorship_tag": "ABX9TyPhLgdf9UAK1HmR7XaBByP3",
      "include_colab_link": true
    },
    "kernelspec": {
      "name": "python3",
      "display_name": "Python 3"
    },
    "language_info": {
      "name": "python"
    }
  },
  "cells": [
    {
      "cell_type": "markdown",
      "metadata": {
        "id": "view-in-github",
        "colab_type": "text"
      },
      "source": [
        "<a href=\"https://colab.research.google.com/github/Nataliahfk/Python_Data_Science/blob/main/Ejercicio_2.ipynb\" target=\"_parent\"><img src=\"https://colab.research.google.com/assets/colab-badge.svg\" alt=\"Open In Colab\"/></a>"
      ]
    },
    {
      "cell_type": "markdown",
      "source": [
        "## Entrenando la programación"
      ],
      "metadata": {
        "id": "aH49EmYAoLwr"
      }
    },
    {
      "cell_type": "markdown",
      "source": [
        "1 - Escribe un programa que pida a la persona usuaria que proporcione dos números y muestre el número más grande.\n",
        "\n"
      ],
      "metadata": {
        "id": "DXdKEjqtoOh0"
      }
    },
    {
      "cell_type": "code",
      "source": [
        "numero_1 = int(input('Ingresa un número: '))\n",
        "numero_2 = int(input('Ingresa otro número: '))\n",
        "\n",
        "if (numero_1 > numero_2):\n",
        "  print(f'El numero {numero_1} es mayor')\n",
        "elif(numero_1 < numero_2):\n",
        "  print(f'El numero {numero_2} es mayor')\n",
        "else:\n",
        "  print('Los números son iguales')"
      ],
      "metadata": {
        "colab": {
          "base_uri": "https://localhost:8080/"
        },
        "id": "wlU4l9mvoP4v",
        "outputId": "9230da30-add6-4eaf-c390-38767ddf32cb"
      },
      "execution_count": 3,
      "outputs": [
        {
          "output_type": "stream",
          "name": "stdout",
          "text": [
            "Ingresa un número: 9\n",
            "Ingresa otro número: 4\n",
            "El numero 9 es mayor\n"
          ]
        }
      ]
    },
    {
      "cell_type": "markdown",
      "source": [
        "2 - Escribe un programa que solicite el porcentaje de crecimiento de producción de una empresa e informe si hubo un crecimiento (porcentaje positivo) o una disminución (porcentaje negativo).\n",
        "\n"
      ],
      "metadata": {
        "id": "V7GkQxCpszmx"
      }
    },
    {
      "cell_type": "code",
      "source": [
        "# Recolectamos el porcentaje\n",
        "variación = float(input('Ingrese el porcentaje de crecimiento: '))\n",
        "\n",
        "# Verificamos si el valor es positivo o negativo con una comparación para ver si el número\n",
        "# es mayor o menor que 0\n",
        "\n",
        "if(variación > 0):\n",
        "  print(f'Hubo un crecimiento del {variación}%')\n",
        "elif (variación < 0):\n",
        "  print(f'Hubo un decrecimiento del {variación}%')\n",
        "else:\n",
        "  print('No hubo crecimiento ni decrecimiento.')"
      ],
      "metadata": {
        "colab": {
          "base_uri": "https://localhost:8080/"
        },
        "id": "wMyRf74Ws199",
        "outputId": "eaf61956-16d8-4794-c46c-e062d1d7af08"
      },
      "execution_count": 8,
      "outputs": [
        {
          "output_type": "stream",
          "name": "stdout",
          "text": [
            "Ingrese el porcentaje de crecimiento: 16.5\n",
            "Hubo un crecimiento del 16.5%\n"
          ]
        }
      ]
    },
    {
      "cell_type": "markdown",
      "source": [
        "3 - Escribe un programa que determine si una letra proporcionada por la persona usuaria es una vocal o una consonante.\n",
        "\n"
      ],
      "metadata": {
        "id": "BtObW4qAuHp4"
      }
    },
    {
      "cell_type": "code",
      "source": [
        "# asigno la lista vocales\n",
        "lista_vocal = 'a,e,i,o,u'\n",
        "# solicito la letra al usuario y la transformo a minúsculas // por si se ingresa una vocal en mayuscula lo lea dentro de la lista_vocal\n",
        "letra = input('Ingresa una letra: ').lower()\n",
        "if(letra in lista_vocal):\n",
        "  print(f'La letra {letra} es una vocal')\n",
        "else:\n",
        "  print(f'La letra {letra} es una consonante')"
      ],
      "metadata": {
        "colab": {
          "base_uri": "https://localhost:8080/"
        },
        "id": "eIHD8ugAt7kG",
        "outputId": "2a66d3aa-3a9e-4142-8156-7d04e569dd1e"
      },
      "execution_count": 16,
      "outputs": [
        {
          "output_type": "stream",
          "name": "stdout",
          "text": [
            "Ingresa una letra: E\n",
            "La letra e es una vocal\n"
          ]
        }
      ]
    },
    {
      "cell_type": "markdown",
      "source": [
        "4 - Escribe un programa que lea valores promedio de precios de un modelo de automóvil durante 3 años consecutivos y muestre el valor más alto y más bajo entre esos tres años.\n",
        "\n"
      ],
      "metadata": {
        "id": "WObFs0fDwBN1"
      }
    },
    {
      "cell_type": "code",
      "source": [
        "# Recolectamos los precios de los 3 años\n",
        "prom_ano1 = float(input('Ingrese el precio promedio del automóvil en el primer año: '))\n",
        "prom_ano2 = float(input('Ingrese el precio promedio del automóvil en el segundo año: '))\n",
        "prom_ano3 = float(input('Ingrese el precio promedio del automóvil en el tercer año: '))\n",
        "\n",
        "# Determinamos el valor más alto mediante comparaciones\n",
        "prom_mayor = prom_ano1\n",
        "if prom_ano2 > prom_mayor:\n",
        "  prom_mayor = prom_ano2\n",
        "if prom_ano3 > prom_mayor:\n",
        "  prom_mayor = prom_ano3\n",
        "\n",
        "# Determinamos el valor más bajo mediante comparaciones\n",
        "prom_menor = prom_ano1\n",
        "if prom_ano2 < prom_menor:\n",
        "  prom_menor = prom_ano2\n",
        "if prom_ano3 < prom_menor:\n",
        "  prom_menor = prom_ano3\n",
        "# Mostramos los resultados\n",
        "print(f'El precio más alto fue de R$ {prom_mayor}.')\n",
        "print(f'El precio más bajo fue de R$ {prom_menor}.')"
      ],
      "metadata": {
        "colab": {
          "base_uri": "https://localhost:8080/"
        },
        "id": "To1wFkQtyFAz",
        "outputId": "c8e9a776-5c68-4078-c13d-9674c00203a0"
      },
      "execution_count": 24,
      "outputs": [
        {
          "output_type": "stream",
          "name": "stdout",
          "text": [
            "Ingrese el precio promedio del automóvil en el primer año: 5\n",
            "Ingrese el precio promedio del automóvil en el segundo año: 2\n",
            "Ingrese el precio promedio del automóvil en el tercer año: 4\n",
            "El precio más alto fue de R$ 5.0.\n",
            "El precio más bajo fue de R$ 2.0.\n"
          ]
        }
      ]
    }
  ]
}