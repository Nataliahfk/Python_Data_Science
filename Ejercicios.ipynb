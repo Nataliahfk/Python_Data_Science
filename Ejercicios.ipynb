{
  "nbformat": 4,
  "nbformat_minor": 0,
  "metadata": {
    "colab": {
      "provenance": [],
      "authorship_tag": "ABX9TyPf9ZxtqwBzfc9RZtrd4Kix",
      "include_colab_link": true
    },
    "kernelspec": {
      "name": "python3",
      "display_name": "Python 3"
    },
    "language_info": {
      "name": "python"
    }
  },
  "cells": [
    {
      "cell_type": "markdown",
      "metadata": {
        "id": "view-in-github",
        "colab_type": "text"
      },
      "source": [
        "<a href=\"https://colab.research.google.com/github/Nataliahfk/Python_Data_Science/blob/main/Ejercicios.ipynb\" target=\"_parent\"><img src=\"https://colab.research.google.com/assets/colab-badge.svg\" alt=\"Open In Colab\"/></a>"
      ]
    },
    {
      "cell_type": "code",
      "execution_count": 1,
      "metadata": {
        "colab": {
          "base_uri": "https://localhost:8080/"
        },
        "id": "-kYAmRdvrimm",
        "outputId": "0f647fce-d0d4-450d-e27c-3ee0841b345e"
      },
      "outputs": [
        {
          "output_type": "stream",
          "name": "stdout",
          "text": [
            "Hola Mundo\n"
          ]
        }
      ],
      "source": [
        "print ('Hola Mundo')"
      ]
    },
    {
      "cell_type": "code",
      "source": [
        "suma = 5 + 8\n",
        "print(suma)"
      ],
      "metadata": {
        "colab": {
          "base_uri": "https://localhost:8080/"
        },
        "id": "ZK8zEUE4rl1M",
        "outputId": "2c3a7e01-2493-430a-fd24-93a3e6fb5d6a"
      },
      "execution_count": 3,
      "outputs": [
        {
          "output_type": "stream",
          "name": "stdout",
          "text": [
            "13\n"
          ]
        }
      ]
    },
    {
      "cell_type": "code",
      "source": [
        "print(\"Escuela de Datos de Alura\")"
      ],
      "metadata": {
        "colab": {
          "base_uri": "https://localhost:8080/"
        },
        "id": "QokUqSuasvLb",
        "outputId": "879816a9-c005-489e-ddf3-c3e66aefc6a5"
      },
      "execution_count": 1,
      "outputs": [
        {
          "output_type": "stream",
          "name": "stdout",
          "text": [
            "Escuela de Datos de Alura\n"
          ]
        }
      ]
    },
    {
      "cell_type": "code",
      "source": [
        "nombre ='Natalia'\n",
        "apellido = 'Hermosilla'\n",
        "print(nombre +' '+ apellido)"
      ],
      "metadata": {
        "colab": {
          "base_uri": "https://localhost:8080/"
        },
        "id": "0vizi0tpSVGI",
        "outputId": "06d438f1-e9c5-4632-81a0-73b189b70fec"
      },
      "execution_count": 5,
      "outputs": [
        {
          "output_type": "stream",
          "name": "stdout",
          "text": [
            "Natalia Hermosilla\n"
          ]
        }
      ]
    },
    {
      "cell_type": "code",
      "source": [
        "print ('N')\n",
        "print ('A')\n",
        "print ('T')\n",
        "print ('Y')"
      ],
      "metadata": {
        "colab": {
          "base_uri": "https://localhost:8080/"
        },
        "id": "-OOK8NrMTHmG",
        "outputId": "eaa646d4-34a3-4c05-b0f7-c5cc04235816"
      },
      "execution_count": 7,
      "outputs": [
        {
          "output_type": "stream",
          "name": "stdout",
          "text": [
            "N\n",
            "A\n",
            "T\n",
            "Y\n"
          ]
        }
      ]
    },
    {
      "cell_type": "code",
      "source": [
        "print(13, 'Marzo', 1983)"
      ],
      "metadata": {
        "colab": {
          "base_uri": "https://localhost:8080/"
        },
        "id": "5lMMyCdbTuBn",
        "outputId": "436b0e72-ecc2-4814-90a1-fc1f08c91b67"
      },
      "execution_count": 10,
      "outputs": [
        {
          "output_type": "stream",
          "name": "stdout",
          "text": [
            "13 Marzo 1983\n"
          ]
        }
      ]
    },
    {
      "cell_type": "code",
      "source": [
        "ano_actual = 2025\n",
        "print(ano_actual)"
      ],
      "metadata": {
        "colab": {
          "base_uri": "https://localhost:8080/"
        },
        "id": "xWNu1GfRT18p",
        "outputId": "7201ddc8-2daf-4a20-a339-9397b80bc3c3"
      },
      "execution_count": 11,
      "outputs": [
        {
          "output_type": "stream",
          "name": "stdout",
          "text": [
            "2025\n"
          ]
        }
      ]
    },
    {
      "cell_type": "code",
      "source": [
        "print('Año actual: ', 2025)"
      ],
      "metadata": {
        "colab": {
          "base_uri": "https://localhost:8080/"
        },
        "id": "3AypPfbEUKMh",
        "outputId": "787d4bf2-028b-478f-8c75-23e8984f2ea1"
      },
      "execution_count": 13,
      "outputs": [
        {
          "output_type": "stream",
          "name": "stdout",
          "text": [
            "Año actual:  2025\n"
          ]
        }
      ]
    },
    {
      "cell_type": "markdown",
      "source": [
        "## Recopilación y muestra de datos"
      ],
      "metadata": {
        "id": "Zpa3z50UmW5R"
      }
    },
    {
      "cell_type": "markdown",
      "source": [
        "1 - Crea un programa que solicite al usuario que escriba su nombre y luego imprima \"Hola, [nombre].\""
      ],
      "metadata": {
        "id": "SFWjZHmJkVh4"
      }
    },
    {
      "cell_type": "code",
      "source": [
        "nombre = input('Digita tu nombre:')\n",
        "print(f'Hola, {nombre}')"
      ],
      "metadata": {
        "colab": {
          "base_uri": "https://localhost:8080/"
        },
        "id": "qeIG3vpvULPr",
        "outputId": "a3a548b8-0ee2-49c5-ab20-f453edd32824"
      },
      "execution_count": 1,
      "outputs": [
        {
          "output_type": "stream",
          "name": "stdout",
          "text": [
            "Digita tu nombre:Natalia\n",
            "Hola, Natalia\n"
          ]
        }
      ]
    },
    {
      "cell_type": "markdown",
      "source": [
        "2 - Crea un programa que solicite al usuario que escriba su nombre y edad, y luego imprima \"Hola, [nombre], tienes [edad] años.\""
      ],
      "metadata": {
        "id": "FudVr0wuk8OA"
      }
    },
    {
      "cell_type": "code",
      "source": [
        "nombre = input('Ingresa tu nombre: ')\n",
        "edad = input('Ingresa tu edad: ')\n",
        "print(f'Hola {nombre},tienes {edad} años.')"
      ],
      "metadata": {
        "colab": {
          "base_uri": "https://localhost:8080/"
        },
        "id": "iG0XPI-_k_Gc",
        "outputId": "0271172e-aa6c-4d03-e9dd-adacb1bb5a80"
      },
      "execution_count": 4,
      "outputs": [
        {
          "output_type": "stream",
          "name": "stdout",
          "text": [
            "Ingresa tu nombre: Naty\n",
            "Ingresa tu edad: 42\n",
            "Hola Naty,tienes 42 años.\n"
          ]
        }
      ]
    },
    {
      "cell_type": "markdown",
      "source": [
        "3 - Crea un programa que solicite al usuario que escriba su nombre, edad y altura en metros, y luego imprima \"Hola, [nombre], tienes [edad] años y mides [altura] metros.\""
      ],
      "metadata": {
        "id": "1rtrXFg_lmKi"
      }
    },
    {
      "cell_type": "code",
      "source": [
        "nombre = input('Ingresa tu nombre: ')\n",
        "edad = input('Ingresa tu edad: ')\n",
        "altura = input('Ingresa tu altura en metros: ')\n",
        "print(f'Hola {nombre}, tienes {edad} años y mides {altura} metros.')"
      ],
      "metadata": {
        "colab": {
          "base_uri": "https://localhost:8080/"
        },
        "id": "aBQxdNBflnDF",
        "outputId": "d3ec2d33-6083-4eda-a6dd-0be0a885acec"
      },
      "execution_count": 5,
      "outputs": [
        {
          "output_type": "stream",
          "name": "stdout",
          "text": [
            "Ingresa tu nombre: Natalia\n",
            "Ingresa tu edad: 30\n",
            "Ingresa tu altura en metros: 1.70\n",
            "Hola Natalia, tienes 30 años y mides 1.70 metros.\n"
          ]
        }
      ]
    },
    {
      "cell_type": "markdown",
      "source": [
        "## Calculadora con operadores"
      ],
      "metadata": {
        "id": "RRfTab5umcwd"
      }
    },
    {
      "cell_type": "markdown",
      "source": [
        "4 - Crea un programa que solicite dos valores numéricos al usuario y luego imprima la suma de ambos valores."
      ],
      "metadata": {
        "id": "8sDmsVtqmfSL"
      }
    },
    {
      "cell_type": "code",
      "source": [
        "primer_num = int(input('Ingresa un número: '))\n",
        "segundo_num = int(input('Ingresa otro número: '))\n",
        "suma = primer_num + segundo_num\n",
        "print (suma)\n",
        "print(f'La suma de {primer_num} + {segundo_num} es = {suma}')\n",
        "print (f'La suma de los valores es: {suma}')"
      ],
      "metadata": {
        "colab": {
          "base_uri": "https://localhost:8080/"
        },
        "id": "nu_-EomZmiGp",
        "outputId": "eaabd7d3-158e-42f5-acf3-6fa05a75a496"
      },
      "execution_count": 7,
      "outputs": [
        {
          "output_type": "stream",
          "name": "stdout",
          "text": [
            "Ingresa un número: 10\n",
            "Ingresa otro número: 8\n",
            "18\n",
            "La suma de 10 + 8 es = 18\n",
            "La suma de los valores es: 18\n"
          ]
        }
      ]
    },
    {
      "cell_type": "markdown",
      "source": [
        "5 - Crea un programa que solicite tres valores numéricos al usuario y luego imprima la suma de los tres valores."
      ],
      "metadata": {
        "id": "ifvNwhsenjHd"
      }
    },
    {
      "cell_type": "code",
      "source": [
        "primer_valor = int(input('Ingresa el primer valor: '))\n",
        "segundo_valor = int(input('Ingresa el segundo valor: '))\n",
        "tercer_valor = int(input('Ingresa el tercer valor: '))\n",
        "suma2 = primer_valor + segundo_valor + tercer_valor\n",
        "print (f'La suma de los tres valores es: {suma2}')"
      ],
      "metadata": {
        "colab": {
          "base_uri": "https://localhost:8080/"
        },
        "id": "UTd3-hqdnkFJ",
        "outputId": "9b3d3d0d-bf52-4a41-a73e-80a524e04b9e"
      },
      "execution_count": 8,
      "outputs": [
        {
          "output_type": "stream",
          "name": "stdout",
          "text": [
            "Ingresa el primer valor: 10\n",
            "Ingresa el segundo valor: 12\n",
            "Ingresa el tercer valor: 14\n",
            "La suma de los tres valores es: 36\n"
          ]
        }
      ]
    },
    {
      "cell_type": "markdown",
      "source": [
        "6 - Crea un programa que solicite dos valores numéricos al usuario y luego imprima la resta del primero menos el segundo valor."
      ],
      "metadata": {
        "id": "bxVAA4kIofFk"
      }
    },
    {
      "cell_type": "code",
      "source": [
        "num_uno = int(input('Ingresa un número: '))\n",
        "num_dos =int(input('Ingresa un número menor al anterior: '))\n",
        "resta = num_uno - num_dos\n",
        "print(f'La resta de los números es: {resta}')"
      ],
      "metadata": {
        "colab": {
          "base_uri": "https://localhost:8080/"
        },
        "id": "At-pJioIokHs",
        "outputId": "76ed10fe-ce6d-4dc3-833d-0814dd3770df"
      },
      "execution_count": 14,
      "outputs": [
        {
          "output_type": "stream",
          "name": "stdout",
          "text": [
            "Ingresa un número: 15\n",
            "Ingresa un número menor al anterior: 5\n",
            "La resta de los números es: 10\n"
          ]
        }
      ]
    },
    {
      "cell_type": "markdown",
      "source": [
        "7 - Crea un programa que solicite dos valores numéricos al usuario y luego imprima la multiplicación de los dos valores."
      ],
      "metadata": {
        "id": "ZgptFlLJsJ0y"
      }
    },
    {
      "cell_type": "code",
      "source": [
        "valor_uno = int(input('Ingrese un número: '))\n",
        "valor_dos = int(input('Ingrese otro número: '))\n",
        "print(f'La multiplicación es: {valor_uno * valor_dos}')"
      ],
      "metadata": {
        "colab": {
          "base_uri": "https://localhost:8080/"
        },
        "id": "22aeGkppsKcN",
        "outputId": "46a3b762-897d-44c8-8e88-b90bf06fe445"
      },
      "execution_count": 15,
      "outputs": [
        {
          "output_type": "stream",
          "name": "stdout",
          "text": [
            "Ingrese un número: 4\n",
            "Ingrese otro número: 6\n",
            "La multiplicación es: 24\n"
          ]
        }
      ]
    },
    {
      "cell_type": "markdown",
      "source": [
        "8 - Crea un programa que solicite dos valores numéricos, un numerador y un denominador, y realice la división entre los dos valores. Asegúrate de que el valor del denominador no sea igual a 0."
      ],
      "metadata": {
        "id": "-Y6TrdUxsydH"
      }
    },
    {
      "cell_type": "code",
      "source": [
        "numerador = int(input('Ingresa un valor: '))\n",
        "denominador = int(input('Ingresa un valor distinto de 0: '))\n",
        "print(f'La división de {numerador} dividido {denominador} es: {numerador/denominador}')"
      ],
      "metadata": {
        "colab": {
          "base_uri": "https://localhost:8080/"
        },
        "id": "r2JsvUhts3R8",
        "outputId": "d1086b26-8370-4d7b-f427-cd74c66c30ed"
      },
      "execution_count": 16,
      "outputs": [
        {
          "output_type": "stream",
          "name": "stdout",
          "text": [
            "Ingresa un valor: 26\n",
            "Ingresa un valor distinto de 0: 4\n",
            "La división de 26 dividido 4 es: 6.5\n"
          ]
        }
      ]
    }
  ]
}