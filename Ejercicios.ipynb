{
  "nbformat": 4,
  "nbformat_minor": 0,
  "metadata": {
    "colab": {
      "provenance": [],
      "authorship_tag": "ABX9TyPxPKYF5Okm6q4jzayo0EI9",
      "include_colab_link": true
    },
    "kernelspec": {
      "name": "python3",
      "display_name": "Python 3"
    },
    "language_info": {
      "name": "python"
    }
  },
  "cells": [
    {
      "cell_type": "markdown",
      "metadata": {
        "id": "view-in-github",
        "colab_type": "text"
      },
      "source": [
        "<a href=\"https://colab.research.google.com/github/Nataliahfk/Python_Data_Science/blob/main/Ejercicios.ipynb\" target=\"_parent\"><img src=\"https://colab.research.google.com/assets/colab-badge.svg\" alt=\"Open In Colab\"/></a>"
      ]
    },
    {
      "cell_type": "code",
      "execution_count": 1,
      "metadata": {
        "colab": {
          "base_uri": "https://localhost:8080/"
        },
        "id": "-kYAmRdvrimm",
        "outputId": "0f647fce-d0d4-450d-e27c-3ee0841b345e"
      },
      "outputs": [
        {
          "output_type": "stream",
          "name": "stdout",
          "text": [
            "Hola Mundo\n"
          ]
        }
      ],
      "source": [
        "print ('Hola Mundo')"
      ]
    },
    {
      "cell_type": "code",
      "source": [
        "suma = 5 + 8\n",
        "print(suma)"
      ],
      "metadata": {
        "colab": {
          "base_uri": "https://localhost:8080/"
        },
        "id": "ZK8zEUE4rl1M",
        "outputId": "2c3a7e01-2493-430a-fd24-93a3e6fb5d6a"
      },
      "execution_count": 3,
      "outputs": [
        {
          "output_type": "stream",
          "name": "stdout",
          "text": [
            "13\n"
          ]
        }
      ]
    },
    {
      "cell_type": "code",
      "source": [
        "print(\"Escuela de Datos de Alura\")"
      ],
      "metadata": {
        "colab": {
          "base_uri": "https://localhost:8080/"
        },
        "id": "QokUqSuasvLb",
        "outputId": "879816a9-c005-489e-ddf3-c3e66aefc6a5"
      },
      "execution_count": 1,
      "outputs": [
        {
          "output_type": "stream",
          "name": "stdout",
          "text": [
            "Escuela de Datos de Alura\n"
          ]
        }
      ]
    },
    {
      "cell_type": "code",
      "source": [
        "nombre ='Natalia'\n",
        "apellido = 'Hermosilla'\n",
        "print(nombre +' '+ apellido)"
      ],
      "metadata": {
        "colab": {
          "base_uri": "https://localhost:8080/"
        },
        "id": "0vizi0tpSVGI",
        "outputId": "06d438f1-e9c5-4632-81a0-73b189b70fec"
      },
      "execution_count": 5,
      "outputs": [
        {
          "output_type": "stream",
          "name": "stdout",
          "text": [
            "Natalia Hermosilla\n"
          ]
        }
      ]
    },
    {
      "cell_type": "code",
      "source": [
        "print ('N')\n",
        "print ('A')\n",
        "print ('T')\n",
        "print ('Y')"
      ],
      "metadata": {
        "colab": {
          "base_uri": "https://localhost:8080/"
        },
        "id": "-OOK8NrMTHmG",
        "outputId": "eaa646d4-34a3-4c05-b0f7-c5cc04235816"
      },
      "execution_count": 7,
      "outputs": [
        {
          "output_type": "stream",
          "name": "stdout",
          "text": [
            "N\n",
            "A\n",
            "T\n",
            "Y\n"
          ]
        }
      ]
    },
    {
      "cell_type": "code",
      "source": [
        "print(13, 'Marzo', 1983)"
      ],
      "metadata": {
        "colab": {
          "base_uri": "https://localhost:8080/"
        },
        "id": "5lMMyCdbTuBn",
        "outputId": "436b0e72-ecc2-4814-90a1-fc1f08c91b67"
      },
      "execution_count": 10,
      "outputs": [
        {
          "output_type": "stream",
          "name": "stdout",
          "text": [
            "13 Marzo 1983\n"
          ]
        }
      ]
    },
    {
      "cell_type": "code",
      "source": [
        "ano_actual = 2025\n",
        "print(ano_actual)"
      ],
      "metadata": {
        "colab": {
          "base_uri": "https://localhost:8080/"
        },
        "id": "xWNu1GfRT18p",
        "outputId": "7201ddc8-2daf-4a20-a339-9397b80bc3c3"
      },
      "execution_count": 11,
      "outputs": [
        {
          "output_type": "stream",
          "name": "stdout",
          "text": [
            "2025\n"
          ]
        }
      ]
    },
    {
      "cell_type": "code",
      "source": [
        "print('Año actual: ', 2025)"
      ],
      "metadata": {
        "colab": {
          "base_uri": "https://localhost:8080/"
        },
        "id": "3AypPfbEUKMh",
        "outputId": "787d4bf2-028b-478f-8c75-23e8984f2ea1"
      },
      "execution_count": 13,
      "outputs": [
        {
          "output_type": "stream",
          "name": "stdout",
          "text": [
            "Año actual:  2025\n"
          ]
        }
      ]
    },
    {
      "cell_type": "markdown",
      "source": [
        "## Recopilación y muestra de datos"
      ],
      "metadata": {
        "id": "Zpa3z50UmW5R"
      }
    },
    {
      "cell_type": "markdown",
      "source": [
        "1 - Crea un programa que solicite al usuario que escriba su nombre y luego imprima \"Hola, [nombre].\""
      ],
      "metadata": {
        "id": "SFWjZHmJkVh4"
      }
    },
    {
      "cell_type": "code",
      "source": [
        "nombre = input('Digita tu nombre:')\n",
        "print(f'Hola, {nombre}')"
      ],
      "metadata": {
        "colab": {
          "base_uri": "https://localhost:8080/"
        },
        "id": "qeIG3vpvULPr",
        "outputId": "a3a548b8-0ee2-49c5-ab20-f453edd32824"
      },
      "execution_count": 1,
      "outputs": [
        {
          "output_type": "stream",
          "name": "stdout",
          "text": [
            "Digita tu nombre:Natalia\n",
            "Hola, Natalia\n"
          ]
        }
      ]
    },
    {
      "cell_type": "markdown",
      "source": [
        "2 - Crea un programa que solicite al usuario que escriba su nombre y edad, y luego imprima \"Hola, [nombre], tienes [edad] años.\""
      ],
      "metadata": {
        "id": "FudVr0wuk8OA"
      }
    },
    {
      "cell_type": "code",
      "source": [
        "nombre = input('Ingresa tu nombre: ')\n",
        "edad = input('Ingresa tu edad: ')\n",
        "print(f'Hola {nombre},tienes {edad} años.')"
      ],
      "metadata": {
        "colab": {
          "base_uri": "https://localhost:8080/"
        },
        "id": "iG0XPI-_k_Gc",
        "outputId": "0271172e-aa6c-4d03-e9dd-adacb1bb5a80"
      },
      "execution_count": 4,
      "outputs": [
        {
          "output_type": "stream",
          "name": "stdout",
          "text": [
            "Ingresa tu nombre: Naty\n",
            "Ingresa tu edad: 42\n",
            "Hola Naty,tienes 42 años.\n"
          ]
        }
      ]
    },
    {
      "cell_type": "markdown",
      "source": [
        "3 - Crea un programa que solicite al usuario que escriba su nombre, edad y altura en metros, y luego imprima \"Hola, [nombre], tienes [edad] años y mides [altura] metros.\""
      ],
      "metadata": {
        "id": "1rtrXFg_lmKi"
      }
    },
    {
      "cell_type": "code",
      "source": [
        "nombre = input('Ingresa tu nombre: ')\n",
        "edad = input('Ingresa tu edad: ')\n",
        "altura = input('Ingresa tu altura en metros: ')\n",
        "print(f'Hola {nombre}, tienes {edad} años y mides {altura} metros.')"
      ],
      "metadata": {
        "colab": {
          "base_uri": "https://localhost:8080/"
        },
        "id": "aBQxdNBflnDF",
        "outputId": "d3ec2d33-6083-4eda-a6dd-0be0a885acec"
      },
      "execution_count": 5,
      "outputs": [
        {
          "output_type": "stream",
          "name": "stdout",
          "text": [
            "Ingresa tu nombre: Natalia\n",
            "Ingresa tu edad: 30\n",
            "Ingresa tu altura en metros: 1.70\n",
            "Hola Natalia, tienes 30 años y mides 1.70 metros.\n"
          ]
        }
      ]
    },
    {
      "cell_type": "markdown",
      "source": [
        "## Calculadora con operadores"
      ],
      "metadata": {
        "id": "RRfTab5umcwd"
      }
    },
    {
      "cell_type": "markdown",
      "source": [
        "4 - Crea un programa que solicite dos valores numéricos al usuario y luego imprima la suma de ambos valores."
      ],
      "metadata": {
        "id": "8sDmsVtqmfSL"
      }
    },
    {
      "cell_type": "code",
      "source": [
        "primer_num = int(input('Ingresa un número: '))\n",
        "segundo_num = int(input('Ingresa otro número: '))\n",
        "suma = primer_num + segundo_num\n",
        "print (suma)\n",
        "print(f'La suma de {primer_num} + {segundo_num} es = {suma}')\n",
        "print (f'La suma de los valores es: {suma}')"
      ],
      "metadata": {
        "colab": {
          "base_uri": "https://localhost:8080/"
        },
        "id": "nu_-EomZmiGp",
        "outputId": "eaabd7d3-158e-42f5-acf3-6fa05a75a496"
      },
      "execution_count": 7,
      "outputs": [
        {
          "output_type": "stream",
          "name": "stdout",
          "text": [
            "Ingresa un número: 10\n",
            "Ingresa otro número: 8\n",
            "18\n",
            "La suma de 10 + 8 es = 18\n",
            "La suma de los valores es: 18\n"
          ]
        }
      ]
    },
    {
      "cell_type": "markdown",
      "source": [
        "5 - Crea un programa que solicite tres valores numéricos al usuario y luego imprima la suma de los tres valores."
      ],
      "metadata": {
        "id": "ifvNwhsenjHd"
      }
    },
    {
      "cell_type": "code",
      "source": [
        "primer_valor = int(input('Ingresa el primer valor: '))\n",
        "segundo_valor = int(input('Ingresa el segundo valor: '))\n",
        "tercer_valor = int(input('Ingresa el tercer valor: '))\n",
        "suma2 = primer_valor + segundo_valor + tercer_valor\n",
        "print (f'La suma de los tres valores es: {suma2}')"
      ],
      "metadata": {
        "colab": {
          "base_uri": "https://localhost:8080/"
        },
        "id": "UTd3-hqdnkFJ",
        "outputId": "9b3d3d0d-bf52-4a41-a73e-80a524e04b9e"
      },
      "execution_count": 8,
      "outputs": [
        {
          "output_type": "stream",
          "name": "stdout",
          "text": [
            "Ingresa el primer valor: 10\n",
            "Ingresa el segundo valor: 12\n",
            "Ingresa el tercer valor: 14\n",
            "La suma de los tres valores es: 36\n"
          ]
        }
      ]
    },
    {
      "cell_type": "markdown",
      "source": [
        "6 - Crea un programa que solicite dos valores numéricos al usuario y luego imprima la resta del primero menos el segundo valor."
      ],
      "metadata": {
        "id": "bxVAA4kIofFk"
      }
    },
    {
      "cell_type": "code",
      "source": [
        "num_uno = int(input('Ingresa un número: '))\n",
        "num_dos =int(input('Ingresa un número menor al anterior: '))\n",
        "resta = num_uno - num_dos\n",
        "print(f'La resta de los números es: {resta}')"
      ],
      "metadata": {
        "colab": {
          "base_uri": "https://localhost:8080/"
        },
        "id": "At-pJioIokHs",
        "outputId": "76ed10fe-ce6d-4dc3-833d-0814dd3770df"
      },
      "execution_count": 14,
      "outputs": [
        {
          "output_type": "stream",
          "name": "stdout",
          "text": [
            "Ingresa un número: 15\n",
            "Ingresa un número menor al anterior: 5\n",
            "La resta de los números es: 10\n"
          ]
        }
      ]
    },
    {
      "cell_type": "markdown",
      "source": [
        "7 - Crea un programa que solicite dos valores numéricos al usuario y luego imprima la multiplicación de los dos valores."
      ],
      "metadata": {
        "id": "ZgptFlLJsJ0y"
      }
    },
    {
      "cell_type": "code",
      "source": [
        "valor_uno = int(input('Ingrese un número: '))\n",
        "valor_dos = int(input('Ingrese otro número: '))\n",
        "print(f'La multiplicación es: {valor_uno * valor_dos}')"
      ],
      "metadata": {
        "colab": {
          "base_uri": "https://localhost:8080/"
        },
        "id": "22aeGkppsKcN",
        "outputId": "46a3b762-897d-44c8-8e88-b90bf06fe445"
      },
      "execution_count": 15,
      "outputs": [
        {
          "output_type": "stream",
          "name": "stdout",
          "text": [
            "Ingrese un número: 4\n",
            "Ingrese otro número: 6\n",
            "La multiplicación es: 24\n"
          ]
        }
      ]
    },
    {
      "cell_type": "markdown",
      "source": [
        "8 - Crea un programa que solicite dos valores numéricos, un numerador y un denominador, y realice la división entre los dos valores. Asegúrate de que el valor del denominador no sea igual a 0."
      ],
      "metadata": {
        "id": "-Y6TrdUxsydH"
      }
    },
    {
      "cell_type": "code",
      "source": [
        "numerador = int(input('Ingresa un valor: '))\n",
        "denominador = int(input('Ingresa un valor distinto de 0: '))\n",
        "print(f'La división de {numerador} dividido {denominador} es: {numerador/denominador}')"
      ],
      "metadata": {
        "colab": {
          "base_uri": "https://localhost:8080/"
        },
        "id": "r2JsvUhts3R8",
        "outputId": "d1086b26-8370-4d7b-f427-cd74c66c30ed"
      },
      "execution_count": 16,
      "outputs": [
        {
          "output_type": "stream",
          "name": "stdout",
          "text": [
            "Ingresa un valor: 26\n",
            "Ingresa un valor distinto de 0: 4\n",
            "La división de 26 dividido 4 es: 6.5\n"
          ]
        }
      ]
    },
    {
      "cell_type": "markdown",
      "source": [
        "9 - Crea un programa que solicite dos valores numéricos, un operador y una potencia, y realice la exponenciación entre estos dos valores."
      ],
      "metadata": {
        "id": "qVRd9rOtzZ4q"
      }
    },
    {
      "cell_type": "code",
      "source": [
        "operador = int(input('Ingresa el valor del operador: '))\n",
        "potencia = int(input('Ingresa el valor de la potencia: '))\n",
        "exponenciacion = operador ** potencia\n",
        "print(f'La exponenciación entre estos dos valores es: {exponenciacion}')"
      ],
      "metadata": {
        "colab": {
          "base_uri": "https://localhost:8080/"
        },
        "id": "XXOb8Oh9zcbw",
        "outputId": "5fc05bcb-576b-465d-8797-b1f5b9fcdd4b"
      },
      "execution_count": 18,
      "outputs": [
        {
          "output_type": "stream",
          "name": "stdout",
          "text": [
            "Ingresa el valor del operador: 2\n",
            "Ingresa el valor de la potencia: 3\n",
            "La exponenciación entre estos dos valores es: 8\n"
          ]
        }
      ]
    },
    {
      "cell_type": "markdown",
      "source": [
        "10 - Crea un programa que solicite dos valores numéricos, un numerador y un denominador, y realice la división entera entre los dos valores. Asegúrate de que el valor del denominador no sea igual a 0."
      ],
      "metadata": {
        "id": "QTQzMwbR0vJH"
      }
    },
    {
      "cell_type": "code",
      "source": [
        "numerador = int(input('Ingresa el valor del numerador: '))\n",
        "denominador = int(input('Ingresa el valor del denominador: '))\n",
        "print(f'La división entera de {numerador} dividido {denominador} es: {numerador//denominador}')"
      ],
      "metadata": {
        "colab": {
          "base_uri": "https://localhost:8080/"
        },
        "id": "LdTTlUYF0xky",
        "outputId": "991d7743-76c5-4bea-f722-98a246b81b0f"
      },
      "execution_count": 20,
      "outputs": [
        {
          "output_type": "stream",
          "name": "stdout",
          "text": [
            "Ingresa el valor del numerador: 7\n",
            "Ingresa el valor del denominador: 3\n",
            "La división entera de 7 dividido 3 es: 2\n"
          ]
        }
      ]
    },
    {
      "cell_type": "markdown",
      "source": [
        "11 - Crea un programa que solicite dos valores numéricos, un numerador y un denominador, y devuelva el resto de la división entre los dos valores. Asegúrate de que el valor del denominador no sea igual a 0.\n",
        "\n"
      ],
      "metadata": {
        "id": "vF39Fl-kUyig"
      }
    },
    {
      "cell_type": "code",
      "source": [
        "numerador = int(input('Ingresa el valor del numerador: '))\n",
        "denominador = int(input('Ingresa un valor distinto de 0 para el denominador: '))\n",
        "print(f'La división entera de {numerador} dividido {denominador} es: {numerador//denominador}')\n",
        "print(f'El resto de la división entre {numerador} y {denominador} es: {numerador % denominador}')"
      ],
      "metadata": {
        "colab": {
          "base_uri": "https://localhost:8080/"
        },
        "id": "AJ9eVbHtU7sZ",
        "outputId": "d8fab77e-caa8-4fe9-9f27-f06e357d41bf"
      },
      "execution_count": 7,
      "outputs": [
        {
          "output_type": "stream",
          "name": "stdout",
          "text": [
            "Ingresa el valor del numerador: 87\n",
            "Ingresa un valor distinto de 0 para el denominador: 6\n",
            "La división entera de 87 dividido 6 es: 14\n",
            "El resto de la división entre 87 y 6 es: 3\n"
          ]
        }
      ]
    },
    {
      "cell_type": "markdown",
      "source": [
        "12 - Crea un código que solicite las 3 notas de un estudiante e imprima el promedio de las notas.\n",
        "\n"
      ],
      "metadata": {
        "id": "u0F5f5jcWKRz"
      }
    },
    {
      "cell_type": "code",
      "source": [
        "nota1 = float(input('Ingresa la primera nota: '))\n",
        "nota2 = float(input('Ingresa la segunda nota: '))\n",
        "nota3 = float(input('Ingresa la tercera nota: '))\n",
        "promedio = nota1+nota2+nota3/3\n",
        "print(f'El promedio de las tres notas es: {promedio}')\n",
        "print('El promedio de las notas redondeado es: %.2f' %promedio)"
      ],
      "metadata": {
        "colab": {
          "base_uri": "https://localhost:8080/"
        },
        "id": "NXMABvIrWMkU",
        "outputId": "5235b8e6-e210-4f03-d2a6-528dc56eba36"
      },
      "execution_count": 15,
      "outputs": [
        {
          "output_type": "stream",
          "name": "stdout",
          "text": [
            "Ingresa la primera nota: 5.8\n",
            "Ingresa la segunda nota: 6.2\n",
            "Ingresa la tercera nota: 6.8\n",
            "El promedio de las tres notas es: 14.266666666666666\n",
            "El promedio de las notas redondeado es: 14.27\n"
          ]
        }
      ]
    },
    {
      "cell_type": "markdown",
      "source": [
        "13 - Crea un código que calcule e imprima el promedio ponderado de los números 5, 12, 20 y 15 con pesos respectivamente iguales a 1, 2, 3 y 4.\n",
        "\n"
      ],
      "metadata": {
        "id": "lPt06kkdYi0b"
      }
    },
    {
      "cell_type": "code",
      "source": [
        "media_ponderada = (5*1 + 12*2 + 20*3 + 15*4)/(1+2+3+4)\n",
        "print(f'El promedio ponderado es: {media_ponderada}')\n",
        "print('El promedio ponderado es: %.1f' % media_ponderada)"
      ],
      "metadata": {
        "colab": {
          "base_uri": "https://localhost:8080/"
        },
        "id": "MSmecnL6Ynmm",
        "outputId": "016e009f-7a2d-4226-beaa-63c62b12e1a3"
      },
      "execution_count": 21,
      "outputs": [
        {
          "output_type": "stream",
          "name": "stdout",
          "text": [
            "El promedio ponderado es: 14.9\n",
            "El promedio ponderado es: 14.9\n"
          ]
        }
      ]
    },
    {
      "cell_type": "markdown",
      "source": [
        "## Editando textos"
      ],
      "metadata": {
        "id": "VbjpYWAFaH4s"
      }
    },
    {
      "cell_type": "markdown",
      "source": [
        "14 - Crea una variable llamada \"frase\" y asígnale una cadena de texto de tu elección. Luego, imprime la frase en pantalla.\n",
        "\n"
      ],
      "metadata": {
        "id": "Bt0PjJN2aJZy"
      }
    },
    {
      "cell_type": "code",
      "source": [
        "frase = 'Aprendiendo Python'\n",
        "print(frase)"
      ],
      "metadata": {
        "colab": {
          "base_uri": "https://localhost:8080/"
        },
        "id": "sJYkW0AfaK_C",
        "outputId": "5b514c80-a841-4586-b3a8-94d2fd43eef4"
      },
      "execution_count": 22,
      "outputs": [
        {
          "output_type": "stream",
          "name": "stdout",
          "text": [
            "Aprendiendo Python\n"
          ]
        }
      ]
    },
    {
      "cell_type": "markdown",
      "source": [
        "15 - Crea un código que solicite una frase y luego imprima la frase en pantalla.\n",
        "\n"
      ],
      "metadata": {
        "id": "iyRvhO10aZ6X"
      }
    },
    {
      "cell_type": "code",
      "source": [
        "frase = input('Favor ingresa una frase: ')\n",
        "print(frase)"
      ],
      "metadata": {
        "colab": {
          "base_uri": "https://localhost:8080/"
        },
        "id": "T4YBDnFdabSg",
        "outputId": "0b0f5084-689c-470f-d548-9010c54d8139"
      },
      "execution_count": 23,
      "outputs": [
        {
          "output_type": "stream",
          "name": "stdout",
          "text": [
            "Favor ingresa una frase: Hola, como estás???\n",
            "Hola, como estás???\n"
          ]
        }
      ]
    },
    {
      "cell_type": "markdown",
      "source": [
        "16 - Crea un código que solicite una frase al usuario y luego imprima la misma frase ingresada pero en mayúsculas.\n",
        "\n"
      ],
      "metadata": {
        "id": "ZCQTKhq1ayGt"
      }
    },
    {
      "cell_type": "code",
      "source": [
        "frase_may = input('Favor ingresa una frase: ')\n",
        "frase_may.upper() # str.upper(variable)"
      ],
      "metadata": {
        "colab": {
          "base_uri": "https://localhost:8080/",
          "height": 52
        },
        "id": "RvmbZCzuayu3",
        "outputId": "24e06f65-dd5d-4923-fd1c-11aede0d8e17"
      },
      "execution_count": 28,
      "outputs": [
        {
          "name": "stdout",
          "output_type": "stream",
          "text": [
            "Favor ingresa una frase: Hola!! Mi nombre es Natalia\n"
          ]
        },
        {
          "output_type": "execute_result",
          "data": {
            "text/plain": [
              "'HOLA!! MI NOMBRE ES NATALIA'"
            ],
            "application/vnd.google.colaboratory.intrinsic+json": {
              "type": "string"
            }
          },
          "metadata": {},
          "execution_count": 28
        }
      ]
    },
    {
      "cell_type": "markdown",
      "source": [
        "17 - Crea un código que solicite una frase al usuario y luego imprima la misma frase ingresada pero en minúsculas.\n",
        "\n"
      ],
      "metadata": {
        "id": "KxOfPmKZbxRx"
      }
    },
    {
      "cell_type": "code",
      "source": [
        "frase_min = input ('Ingresa una frase: ')\n",
        "frase_min.lower() #str.lower(variable)"
      ],
      "metadata": {
        "colab": {
          "base_uri": "https://localhost:8080/",
          "height": 52
        },
        "id": "EUmSchBjbxu-",
        "outputId": "cde42b27-bf49-44d7-af2a-fe0f4b6f48fb"
      },
      "execution_count": 30,
      "outputs": [
        {
          "name": "stdout",
          "output_type": "stream",
          "text": [
            "Ingresa una frase: Mi NOMBRE es Kyra\n"
          ]
        },
        {
          "output_type": "execute_result",
          "data": {
            "text/plain": [
              "'mi nombre es kyra'"
            ],
            "application/vnd.google.colaboratory.intrinsic+json": {
              "type": "string"
            }
          },
          "metadata": {},
          "execution_count": 30
        }
      ]
    },
    {
      "cell_type": "markdown",
      "source": [
        "18 - Crea una variable llamada \"frase\" y asígnale una cadena de texto de tu elección. Luego, imprime la frase sin espacios en blanco al principio y al final.\n",
        "\n"
      ],
      "metadata": {
        "id": "cIWENUjicHYY"
      }
    },
    {
      "cell_type": "code",
      "source": [
        "frase_sin_espacios = '  Operaciones Aritmeticas  '\n",
        "frase_sin_espacios.strip() # tambien lo puedo escribir str.strip(variable)"
      ],
      "metadata": {
        "colab": {
          "base_uri": "https://localhost:8080/",
          "height": 35
        },
        "id": "c5zyRealcJEH",
        "outputId": "062e4cb5-27da-48b6-9f50-3f7593e98448"
      },
      "execution_count": 31,
      "outputs": [
        {
          "output_type": "execute_result",
          "data": {
            "text/plain": [
              "'Operaciones Aritmeticas'"
            ],
            "application/vnd.google.colaboratory.intrinsic+json": {
              "type": "string"
            }
          },
          "metadata": {},
          "execution_count": 31
        }
      ]
    },
    {
      "cell_type": "markdown",
      "source": [
        "19 - Crea un código que solicite una frase al usuario y luego imprima la misma frase sin espacios en blanco al principio y al final.\n",
        "\n"
      ],
      "metadata": {
        "id": "0VzOakT0c6Tq"
      }
    },
    {
      "cell_type": "code",
      "source": [
        "frase_sin_espacios = input('Ingresa una frase: ')\n",
        "str.strip(frase_sin_espacios)"
      ],
      "metadata": {
        "colab": {
          "base_uri": "https://localhost:8080/",
          "height": 52
        },
        "id": "0S_bE3HFc733",
        "outputId": "94649de4-dc20-4301-9205-00e53f9060ae"
      },
      "execution_count": 32,
      "outputs": [
        {
          "name": "stdout",
          "output_type": "stream",
          "text": [
            "Ingresa una frase:   Hola, Mi nombre es Naty    \n"
          ]
        },
        {
          "output_type": "execute_result",
          "data": {
            "text/plain": [
              "'Hola, Mi nombre es Naty'"
            ],
            "application/vnd.google.colaboratory.intrinsic+json": {
              "type": "string"
            }
          },
          "metadata": {},
          "execution_count": 32
        }
      ]
    },
    {
      "cell_type": "markdown",
      "source": [
        "20 - Crea un código que solicite una frase al usuario y luego imprima la misma frase sin espacios en blanco al principio y al final, además de convertirla a minúsculas.\n",
        "\n"
      ],
      "metadata": {
        "id": "RSrvbrAqdoI3"
      }
    },
    {
      "cell_type": "code",
      "source": [
        "frase_nueva = input('Ingresa una frase: ')\n",
        "frase_nueva.strip().lower()"
      ],
      "metadata": {
        "colab": {
          "base_uri": "https://localhost:8080/",
          "height": 52
        },
        "id": "7UXb1o30dtAu",
        "outputId": "ab379631-1a1c-4956-9254-6865829da618"
      },
      "execution_count": 33,
      "outputs": [
        {
          "name": "stdout",
          "output_type": "stream",
          "text": [
            "Ingresa una frase:  Hola!!! MI NOMBRE es Naty    \n"
          ]
        },
        {
          "output_type": "execute_result",
          "data": {
            "text/plain": [
              "'hola!!! mi nombre es naty'"
            ],
            "application/vnd.google.colaboratory.intrinsic+json": {
              "type": "string"
            }
          },
          "metadata": {},
          "execution_count": 33
        }
      ]
    },
    {
      "cell_type": "markdown",
      "source": [
        "21 - Crea un código que solicite una frase al usuario y luego imprima la misma frase con todas las vocales \"e\" reemplazadas por la letra \"f\".\n",
        "\n"
      ],
      "metadata": {
        "id": "0e-LoU6weFuO"
      }
    },
    {
      "cell_type": "code",
      "source": [
        "frase = input('Ingresa una frase: ')\n",
        "frase.replace('e','f')"
      ],
      "metadata": {
        "colab": {
          "base_uri": "https://localhost:8080/",
          "height": 52
        },
        "id": "srCi_LzGeGUN",
        "outputId": "43e92353-8237-4325-bb95-22b77e1edfe1"
      },
      "execution_count": 39,
      "outputs": [
        {
          "name": "stdout",
          "output_type": "stream",
          "text": [
            "Ingresa una frase: elefante\n"
          ]
        },
        {
          "output_type": "execute_result",
          "data": {
            "text/plain": [
              "'flffantf'"
            ],
            "application/vnd.google.colaboratory.intrinsic+json": {
              "type": "string"
            }
          },
          "metadata": {},
          "execution_count": 39
        }
      ]
    },
    {
      "cell_type": "markdown",
      "source": [
        "22 - Crea un código que solicite una frase al usuario y luego imprima la misma frase con todas las vocales \"a\" reemplazadas por el carácter \"@\".\n",
        "\n"
      ],
      "metadata": {
        "id": "JssosybjfSg8"
      }
    },
    {
      "cell_type": "code",
      "source": [
        "frase_nueva = input('Ingresa una frase: ')\n",
        "frase_nueva.replace('a',chr(64)) # tambien se puede escribir frase_nueva.replace('a','@')"
      ],
      "metadata": {
        "colab": {
          "base_uri": "https://localhost:8080/",
          "height": 52
        },
        "id": "UCId02bKfTNA",
        "outputId": "8ce49b22-eddc-43b2-b5c5-4d68ceaa465d"
      },
      "execution_count": 42,
      "outputs": [
        {
          "name": "stdout",
          "output_type": "stream",
          "text": [
            "Ingresa una frase: imprima la misma frase con todas\n"
          ]
        },
        {
          "output_type": "execute_result",
          "data": {
            "text/plain": [
              "'imprim@ l@ mism@ fr@se con tod@s'"
            ],
            "application/vnd.google.colaboratory.intrinsic+json": {
              "type": "string"
            }
          },
          "metadata": {},
          "execution_count": 42
        }
      ]
    },
    {
      "cell_type": "markdown",
      "source": [
        "23 - Crea un código que solicite una frase al usuario y luego imprima la misma frase con todas las consonantes \"s\" reemplazadas por el carácter \"$\".\n",
        "\n"
      ],
      "metadata": {
        "id": "SRvBvRIofwji"
      }
    },
    {
      "cell_type": "code",
      "source": [
        "frase_nueva = input('Ingresa una frase: ')\n",
        "frase_nueva.replace('s',chr(36)) #frase_nueva.replace('s','$')"
      ],
      "metadata": {
        "colab": {
          "base_uri": "https://localhost:8080/",
          "height": 52
        },
        "id": "D9YEhT9Yfx4S",
        "outputId": "e54fa1a6-f6b0-4786-bb90-d335981377cc"
      },
      "execution_count": 46,
      "outputs": [
        {
          "name": "stdout",
          "output_type": "stream",
          "text": [
            "Ingresa una frase: solo tu, solo yo, somos 2\n"
          ]
        },
        {
          "output_type": "execute_result",
          "data": {
            "text/plain": [
              "'$olo tu, $olo yo, $omo$ 2'"
            ],
            "application/vnd.google.colaboratory.intrinsic+json": {
              "type": "string"
            }
          },
          "metadata": {},
          "execution_count": 46
        }
      ]
    }
  ]
}