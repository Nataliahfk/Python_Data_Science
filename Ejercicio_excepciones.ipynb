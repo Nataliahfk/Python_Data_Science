{
  "nbformat": 4,
  "nbformat_minor": 0,
  "metadata": {
    "colab": {
      "provenance": [],
      "authorship_tag": "ABX9TyNLrl7tYuaXxdK2Ij02t3n4",
      "include_colab_link": true
    },
    "kernelspec": {
      "name": "python3",
      "display_name": "Python 3"
    },
    "language_info": {
      "name": "python"
    }
  },
  "cells": [
    {
      "cell_type": "markdown",
      "metadata": {
        "id": "view-in-github",
        "colab_type": "text"
      },
      "source": [
        "<a href=\"https://colab.research.google.com/github/Nataliahfk/Python_Data_Science/blob/main/Ejercicio_excepciones.ipynb\" target=\"_parent\"><img src=\"https://colab.research.google.com/assets/colab-badge.svg\" alt=\"Open In Colab\"/></a>"
      ]
    },
    {
      "cell_type": "markdown",
      "source": [
        "1 - Haz un programa que solicite a la persona usuaria ingresar dos números decimales y calcular la división entre estos números. El código debe incluir un manejo de error, indicando el tipo de error que se generó si la división no es posible.\n",
        "\n",
        "Prueba el programa con el segundo valor numérico de la entrada igual a 0. También prueba usando caracteres textuales en la entrada para verificar los tipos de errores que ocurren.\n",
        "\n"
      ],
      "metadata": {
        "id": "7jAadXRq4kRf"
      }
    },
    {
      "cell_type": "code",
      "source": [
        "try:\n",
        "  num1 = float(input('Ingrese un número decimal: '))\n",
        "  num2 = float(input('Ingrese otro número decimal: '))\n",
        "  resultado = num1/num2\n",
        "  print(f'El resultado de la división es :{resultado}')\n",
        "except ZeroDivisionError:\n",
        "  print('Error: No se puede dividir por cero.')\n",
        "except ValueError as e:\n",
        "    print(f'Error: {e}')\n"
      ],
      "metadata": {
        "colab": {
          "base_uri": "https://localhost:8080/"
        },
        "id": "1rH9t-rB4mU3",
        "outputId": "dad8dc58-0b0f-4a88-e5e7-75af63abf96d"
      },
      "execution_count": 13,
      "outputs": [
        {
          "output_type": "stream",
          "name": "stdout",
          "text": [
            "Ingrese un número decimal: 5\n",
            "Ingrese otro número decimal: 0\n",
            "Error: No se puede dividir por cero.\n"
          ]
        }
      ]
    },
    {
      "cell_type": "markdown",
      "source": [
        "2 - Haz un programa que solicite a la persona usuaria ingresar un texto que será una clave a buscar en el siguiente diccionario: edades = {'Júlia': 16, 'Carol': 23, 'Alberto': 19, 'Roberta': 17}, almacenando el resultado del valor en una variable. El código debe incluir un manejo de error KeyError, imprimiendo la información 'Nombre no encontrado' en caso de error, e imprimir el valor si no ocurre ninguno.\n",
        "\n"
      ],
      "metadata": {
        "id": "yK5I6cfe8cAd"
      }
    }
  ]
}