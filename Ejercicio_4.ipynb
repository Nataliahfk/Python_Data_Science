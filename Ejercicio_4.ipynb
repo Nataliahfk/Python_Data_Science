{
  "nbformat": 4,
  "nbformat_minor": 0,
  "metadata": {
    "colab": {
      "provenance": [],
      "authorship_tag": "ABX9TyPWxKwd3K/aVEr7PCnd4jMa",
      "include_colab_link": true
    },
    "kernelspec": {
      "name": "python3",
      "display_name": "Python 3"
    },
    "language_info": {
      "name": "python"
    }
  },
  "cells": [
    {
      "cell_type": "markdown",
      "metadata": {
        "id": "view-in-github",
        "colab_type": "text"
      },
      "source": [
        "<a href=\"https://colab.research.google.com/github/Nataliahfk/Python_Data_Science/blob/main/Ejercicio_4.ipynb\" target=\"_parent\"><img src=\"https://colab.research.google.com/assets/colab-badge.svg\" alt=\"Open In Colab\"/></a>"
      ]
    },
    {
      "cell_type": "markdown",
      "source": [
        "1 - Crea un programa que tenga la siguiente lista con los gastos de una empresa de papel [2172.54, 3701.35, 3518.09, 3456.61, 3249.38, 2840.82, 3891.45, 3075.26, 2317.64, 3219.08]. Con estos valores, crea un programa que calcule el promedio de gastos. Sugerencia: usa las funciones integradas sum() y len().\n",
        "\n"
      ],
      "metadata": {
        "id": "nu54GvHqJE88"
      }
    },
    {
      "cell_type": "code",
      "source": [
        "# Datos de gastos\n",
        "gastos =  [2172.54, 3701.35, 3518.09, 3456.61, 3249.38, 2840.82, 3891.45, 3075.26, 2317.64, 3219.08]\n",
        "# Calculamos el promedio encontrando el valor total de gastos con la función sum\n",
        "# y la cantidad total de compras realizadas con len\n",
        "\n",
        "total_gastos = sum(gastos)\n",
        "cantidad_compras = len(gastos)\n",
        "promedio = total_gastos / cantidad_compras\n",
        "# Resultado\n",
        "print(f'El promedio de gastos es {promedio}.')"
      ],
      "metadata": {
        "colab": {
          "base_uri": "https://localhost:8080/"
        },
        "id": "Y4dkrhC2OEF-",
        "outputId": "1dbcf6f9-a4bb-4499-9b1d-5608023f0f42"
      },
      "execution_count": null,
      "outputs": [
        {
          "output_type": "stream",
          "name": "stdout",
          "text": [
            "El promedio de gastos es 3144.222.\n"
          ]
        }
      ]
    },
    {
      "cell_type": "markdown",
      "source": [
        "2 - Con los mismos datos de la pregunta anterior, determina cuántas compras se realizaron por encima de 3000 reales y calcula el porcentaje con respecto al total de compras.\n",
        "\n"
      ],
      "metadata": {
        "id": "ebugIiHYSIJD"
      }
    },
    {
      "cell_type": "code",
      "source": [
        "# Datos de gastos\n",
        "gastos =  [2172.54, 3701.35, 3518.09, 3456.61, 3249.38, 2840.82, 3891.45, 3075.26, 2317.64, 3219.08]\n",
        "# Variable que contará cuántas compras se realizaron por encima de 3000\n",
        "cont = 0\n",
        "# Usamos un bucle para recorrer la lista de gastos\n",
        "for gasto in gastos:\n",
        "   # Verificamos si el elemento está por encima de 3000\n",
        "  if(gasto > 3000):\n",
        "    cont += 1\n",
        "\n",
        "# Con el conteo podemos calcular el porcentaje de valores por encima de 3000 entre todas las compras\n",
        "porcentaje_3000 = cont *100 /cantidad_compras\n",
        "\n",
        "# Resultado\n",
        "print(f'{cont} compras estuvieron por encima de R$3000,00.')\n",
        "print(f'{porcentaje_3000}% de los gastos estuvieron por encima de R$3000,00.')"
      ],
      "metadata": {
        "colab": {
          "base_uri": "https://localhost:8080/"
        },
        "id": "YFo0bs10SIxq",
        "outputId": "6f480a78-ed84-4e88-dcd8-4068d84f1a97"
      },
      "execution_count": null,
      "outputs": [
        {
          "output_type": "stream",
          "name": "stdout",
          "text": [
            "7 compras estuvieron por encima de R$3000,00.\n",
            "70.0% de los gastos estuvieron por encima de R$3000,00.\n"
          ]
        }
      ]
    },
    {
      "cell_type": "markdown",
      "source": [
        "3 - Crea un código que recoja en una lista 5 números enteros aleatorios e imprima la lista. Ejemplo: [1, 4, 7, 2, 4].\n",
        "\n"
      ],
      "metadata": {
        "id": "71KOtm9HWdpw"
      }
    },
    {
      "cell_type": "code",
      "source": [
        "# Lista que almacenará los 5 números enteros\n",
        "lista_numeros = []\n",
        "\n",
        "# Creamos un bucle que iterará 5 veces para recibir los 5 números\n",
        "for i in range(0, 5):\n",
        "  # Recopilamos el valor e lo insertamos en la lista 5 veces\n",
        "  numero = int(input('Ingresa un número entero: '))\n",
        "  lista_numeros.append(numero)\n",
        "#Resultado\n",
        "print(f'Lista de números ingresados: {lista_numeros}')"
      ],
      "metadata": {
        "colab": {
          "base_uri": "https://localhost:8080/"
        },
        "id": "v2zoLxFGWeIf",
        "outputId": "2878619f-e3e0-47ef-dc97-960f6f38e79c"
      },
      "execution_count": null,
      "outputs": [
        {
          "output_type": "stream",
          "name": "stdout",
          "text": [
            "Ingresa un número entero: 2\n",
            "Ingresa un número entero: 3\n",
            "Ingresa un número entero: 4\n",
            "Ingresa un número entero: 6\n",
            "Ingresa un número entero: 8\n",
            "Lista de números ingresados: [2, 3, 4, 6, 8]\n"
          ]
        }
      ]
    },
    {
      "cell_type": "markdown",
      "source": [
        "4 - Recoge nuevamente 5 números enteros e imprime la lista en orden inverso al enviado.\n",
        "\n"
      ],
      "metadata": {
        "id": "BHlC8ef_Yxpb"
      }
    },
    {
      "cell_type": "code",
      "source": [
        "# Lista que almacenará los 5 números enteros\n",
        "lista_numeros = []\n",
        "# Creamos un bucle que iterará 5 veces para recibir los 5 números\n",
        "for num in range(0,5):\n",
        "  numero=int(input('Ingresa un número entero: '))\n",
        "  lista_numeros.append(numero)\n",
        "\n",
        "lista_numeros.reverse()\n",
        "# Resultado\n",
        "print(f'La lista de números invertida es: {lista_numeros}')\n",
        "# Usamos la técnica de partición para imprimir el resultado\n",
        "print(f'Lista de números invertida: {lista_numeros[:4+1]}')\n"
      ],
      "metadata": {
        "colab": {
          "base_uri": "https://localhost:8080/"
        },
        "id": "wymiL4kaYyQ3",
        "outputId": "d03d8414-b60c-4fb7-868a-df8927bdf917"
      },
      "execution_count": 12,
      "outputs": [
        {
          "output_type": "stream",
          "name": "stdout",
          "text": [
            "Ingresa un número entero: 1\n",
            "Ingresa un número entero: 2\n",
            "Ingresa un número entero: 3\n",
            "Ingresa un número entero: 4\n",
            "Ingresa un número entero: 5\n",
            "La lista de números invertida es: [5, 4, 3, 2, 1]\n",
            "Lista de números invertida: [5, 4, 3, 2, 1]\n"
          ]
        }
      ]
    },
    {
      "cell_type": "markdown",
      "source": [
        "5 - Crea un programa que, al ingresar un número cualquiera, genere una lista que contenga todos los números primos entre 1 y el número ingresado.\n",
        "\n"
      ],
      "metadata": {
        "id": "NytnDchBdAMh"
      }
    },
    {
      "cell_type": "code",
      "source": [
        "# Recopilamos el número\n",
        "numero = int(input('Ingresa un número entero: '))\n",
        "# Lista para almacenar los números primos\n",
        "lista_primos = []\n",
        "# Bucle que recorre todos los números por debajo del número ingresado\n",
        "for num in range(2, numero):\n",
        "  # Primo es una bandera que nos permite saber si el valor analizado es primo o no.\n",
        "  primo = True\n",
        "  # Probamos si todos los números por debajo del especificado en el primer bucle pueden dar una división exacta.\n",
        "  for prueba_divisibles in range(2, num):\n",
        "    if num % prueba_divisibles == 0:\n",
        "      # Si es divisible por algún número, entendemos que el número no es primo y terminamos el bucle interno con break.\n",
        "      primo = False\n",
        "      break\n",
        "  # La condición se convierte en el resultado booleano de primo: False. Ignoramos la condición True y ejecutamos el bloque del if.\n",
        "  if primo:\n",
        "    lista_primos.append(num)\n",
        "# Resultado\n",
        "print(f'Lista de números primos: {lista_primos}')\n"
      ],
      "metadata": {
        "colab": {
          "base_uri": "https://localhost:8080/"
        },
        "id": "kUfEvBf2dB9E",
        "outputId": "7cb9a191-0c6c-4a19-e77f-841624f7ec12"
      },
      "execution_count": null,
      "outputs": [
        {
          "output_type": "stream",
          "name": "stdout",
          "text": [
            "Ingresa un número entero: 8\n",
            "Lista de números primos: [2, 3, 5, 7]\n"
          ]
        }
      ]
    },
    {
      "cell_type": "markdown",
      "source": [
        "6 - Escribe un programa que pida una fecha, especificando el día, mes y año, y determine si es válida para su análisis.\n",
        "\n"
      ],
      "metadata": {
        "id": "4kbB--UB_xgy"
      }
    },
    {
      "cell_type": "code",
      "source": [
        "# Recopilamos la fecha\n",
        "dia = int(input('Ingrese el día: '))\n",
        "mes = int(input('Ingrese el mes: '))\n",
        "anio = int(input('Ingrese el año: '))\n",
        "\n",
        "# Análisis de febrero\n",
        "if mes == 2:\n",
        "  # Verificamos si es o no un año bisiesto\n",
        "  if anio % 4 == 0 and (anio % 400 == 0 or anio % 100 != 0):\n",
        "    dias_febrero = 29\n",
        "  else:\n",
        "    dias_febrero = 28\n",
        "  # Verificamos si el día ingresado coincide con el máximo de días de febrero\n",
        "  if dia >= 1 and dia <= dias_febrero:\n",
        "    print('Fecha válida')\n",
        "  else:\n",
        "    print('Fecha inválida')\n",
        "# Verificamos meses que terminan en 31 días\n",
        "elif mes in [1, 3, 5, 7, 8, 10, 12]:\n",
        "  if dia >= 1 and dia <= 31:\n",
        "    print('Fecha válida')\n",
        "  else:\n",
        "    print('Fecha inválida')\n",
        "# Verificamos meses que terminan en 30 días\n",
        "elif mes in [4, 6, 9, 11]:\n",
        "  if dia >= 1 and dia <= 30:\n",
        "    print('Fecha válida')\n",
        "  else:\n",
        "    print('Fecha inválida')\n",
        "# Si el mes no está entre 1 y 12\n",
        "else:\n",
        "  print('Fecha inválida')"
      ],
      "metadata": {
        "colab": {
          "base_uri": "https://localhost:8080/"
        },
        "id": "IHoqQrJ__yIR",
        "outputId": "de20afe4-2986-4362-86d2-3a5e6b0fa051"
      },
      "execution_count": null,
      "outputs": [
        {
          "output_type": "stream",
          "name": "stdout",
          "text": [
            "Ingrese el día: 13\n",
            "Ingrese el mes: 03\n",
            "Ingrese el año: 1983\n",
            "Fecha válida\n"
          ]
        }
      ]
    },
    {
      "cell_type": "markdown",
      "source": [
        "## PROYECTOS"
      ],
      "metadata": {
        "id": "d3-GlUVJBkmD"
      }
    },
    {
      "cell_type": "markdown",
      "source": [
        "7 - Para un estudio sobre la multiplicación de bacterias en una colonia, se recopiló el número de bacterias multiplicadas por día y se puede observar a continuación: [1.2, 2.1, 3.3, 5.0, 7.8, 11.3, 16.6, 25.1, 37.8, 56.9]. Con estos valores, crea un código que genere una lista que contenga el porcentaje de crecimiento de bacterias por día, comparando el número de bacterias en cada día con el número de bacterias del día anterior. Sugerencia: para calcular el porcentaje de crecimiento, utiliza la siguiente ecuación: 100 * (muestra_actual - muestra_anterior) / muestra_anterior.\n",
        "\n"
      ],
      "metadata": {
        "id": "gg7Y9GJCBnqQ"
      }
    },
    {
      "cell_type": "code",
      "source": [
        "# Lista de crecimiento de bacterias\n",
        "bacterias_colonia = [1.2, 2.1, 3.3, 5.0, 7.8, 11.3, 16.6, 25.1, 37.8, 56.9]\n",
        "\n",
        "# Lista que almacenará las tasas de crecimiento\n",
        "porcentaje_crecimiento= []\n",
        "\n",
        "# Recorremos los índices de 1 a 9 para comparar los valores actuales con los anteriores\n",
        "for i in range(1,len(bacterias_colonia)):\n",
        "# Realizamos el cálculo: 100 * (muestra_actual - muestra_anterior) / (muestra_anterior)\n",
        "  porcentaje = 100 * (bacterias_colonia[i] - bacterias_colonia[i-1]) / (bacterias_colonia[i-1])\n",
        "  # Agregamos el resultado a la lista porcentaje_crecimiento\n",
        "  porcentaje_crecimiento.append(porcentaje)\n",
        "\n",
        "# Resultado\n",
        "print(f'Porcentajes de crecimiento:\\n{porcentaje_crecimiento}')\n",
        "\n"
      ],
      "metadata": {
        "colab": {
          "base_uri": "https://localhost:8080/"
        },
        "id": "MJ0OCvK4BrjN",
        "outputId": "babfe731-8981-4c1a-d619-918c267a3fd4"
      },
      "execution_count": null,
      "outputs": [
        {
          "output_type": "stream",
          "name": "stdout",
          "text": [
            "Porcentajes de crecimiento:\n",
            "[75.00000000000001, 57.142857142857125, 51.51515151515153, 56.0, 44.87179487179489, 46.90265486725664, 51.20481927710843, 50.59760956175297, 50.52910052910054]\n"
          ]
        }
      ]
    },
    {
      "cell_type": "markdown",
      "source": [
        "8 - Para una selección de productos alimenticios, debemos separar el conjunto de IDs proporcionados por números enteros, sabiendo que los productos con ID par son dulces y los que tienen ID impar son amargos. Crea un código que recoja 10 IDs. Luego, calcula y muestra la cantidad de productos dulces y amargos.\n",
        "\n"
      ],
      "metadata": {
        "id": "FsW0jTFeDyUG"
      }
    },
    {
      "cell_type": "code",
      "source": [
        "# Lista que contendrá los valores de IDs\n",
        "ids = []\n",
        "# Variables contadoras de dulces y amargos\n",
        "dulce = 0\n",
        "id_dulce = []\n",
        "amargo = 0\n",
        "id_amargo = []\n",
        "\n",
        "\n",
        "# Creamos un bucle que iterará 10 veces para recopilar los 10 IDs\n",
        "for i in range(0,10):\n",
        "  # Recopilamos el ID y lo agregamos a la lista\n",
        "  ids.append(int(input(f'Ingrese el ID {i+1}°: ')))\n",
        "\n",
        "# Leemos todos los elementos de la lista de IDs y los asignamos a id\n",
        "for id in ids:\n",
        "  # Verificamos si los elementos son pares o impares para llevar el conteo\n",
        "  if id % 2 == 0:\n",
        "    dulce += 1\n",
        "    id_dulce.append(id)\n",
        "  else:\n",
        "    amargo += 1\n",
        "    id_amargo.append(id)\n",
        "\n",
        "# Resultado\n",
        "print(f'La lista de productos dulces : {id_dulce}')\n",
        "print(f'Cantidad de productos dulces: {dulce}')\n",
        "print(f'La lista de productos amargos : {id_amargo}')\n",
        "print(f'Cantidad de productos amargos: {amargo}')"
      ],
      "metadata": {
        "colab": {
          "base_uri": "https://localhost:8080/"
        },
        "id": "Kqg7ZlfZFYal",
        "outputId": "264bbef2-dca4-4de5-884a-2cd63cbdb373"
      },
      "execution_count": null,
      "outputs": [
        {
          "output_type": "stream",
          "name": "stdout",
          "text": [
            "Ingrese el ID 1°: 2\n",
            "Ingrese el ID 2°: 4\n",
            "Ingrese el ID 3°: 3\n",
            "Ingrese el ID 4°: 6\n",
            "Ingrese el ID 5°: 7\n",
            "Ingrese el ID 6°: 8\n",
            "Ingrese el ID 7°: 8\n",
            "Ingrese el ID 8°: 6\n",
            "Ingrese el ID 9°: 5\n",
            "Ingrese el ID 10°: 4\n",
            "La lista de productos dulces : [2, 4, 6, 8, 8, 6, 4]\n",
            "Cantidad de productos dulces: 7\n",
            "La lista de productos amargos : [3, 7, 5]\n",
            "Cantidad de productos amargos: 3\n"
          ]
        }
      ]
    },
    {
      "cell_type": "markdown",
      "source": [
        "9 - Desarrolla un programa que informe la puntuación de un estudiante de acuerdo con sus respuestas. Debe pedir la respuesta del estudiante para cada pregunta y verificar si la respuesta coincide con el resultado. Cada pregunta vale un punto y hay opciones A, B, C o D.\n",
        "\n"
      ],
      "metadata": {
        "id": "VCvwMbKrIDIT"
      }
    },
    {
      "cell_type": "code",
      "source": [
        "Resultado del examen:\n",
        "01 - D\n",
        "02 - A\n",
        "03 - C\n",
        "04 - B\n",
        "05 - A\n",
        "06 - D\n",
        "07 - C\n",
        "08 - C\n",
        "09 - A\n",
        "10 - B"
      ],
      "metadata": {
        "id": "rxhdxvpLIF4v"
      },
      "execution_count": null,
      "outputs": []
    },
    {
      "cell_type": "code",
      "source": [
        "# Inicializamos los datos\n",
        "respuestas = []  # Lista para almacenar las respuestas\n",
        "# Lista de respuestas correctas\n",
        "lista_respuestas = ['D', 'A', 'C', 'B', 'A', 'D', 'C', 'C', 'A', 'B']\n",
        "nota = 0  # Acumulará la nota total\n",
        "\n",
        "# Recopilamos las respuestas del estudiante\n",
        "for i in range(0, 10):\n",
        "  respuestas.append(input(f'Introduzca la respuesta a la pregunta {i + 1}: ').upper())\n",
        "\n",
        "# Verificamos si las respuestas coinciden y las sumamos a la nota\n",
        "for i in range(0, 10):\n",
        "  if respuestas[i] == lista_respuestas[i]:\n",
        "    nota += 1\n",
        "\n",
        "# Mostrando la nota final\n",
        "print(f'Nota final: {nota}')"
      ],
      "metadata": {
        "colab": {
          "base_uri": "https://localhost:8080/"
        },
        "id": "falkiZSIIN7I",
        "outputId": "54a59b77-74e3-4901-a4fe-21d4488827a2"
      },
      "execution_count": null,
      "outputs": [
        {
          "output_type": "stream",
          "name": "stdout",
          "text": [
            "Introduzca la respuesta a la pregunta 1: a\n",
            "Introduzca la respuesta a la pregunta 2: a\n",
            "Introduzca la respuesta a la pregunta 3: a\n",
            "Introduzca la respuesta a la pregunta 4: a\n",
            "Introduzca la respuesta a la pregunta 5: a\n",
            "Introduzca la respuesta a la pregunta 6: a\n",
            "Introduzca la respuesta a la pregunta 7: a\n",
            "Introduzca la respuesta a la pregunta 8: a\n",
            "Introduzca la respuesta a la pregunta 9: a\n",
            "Introduzca la respuesta a la pregunta 10: a\n",
            "Nota final: 3\n"
          ]
        }
      ]
    },
    {
      "cell_type": "markdown",
      "source": [
        "10 - Un instituto de meteorología desea realizar un estudio de la temperatura media de cada mes del año. Para ello, debes crear un código que recoja y almacene esas temperaturas medias en una lista. Luego, calcula el promedio anual de las temperaturas y muestra todas las temperaturas por encima del promedio anual y en qué mes ocurrieron, mostrando los meses por su nombre (Enero, Febrero, etc.).\n",
        "\n"
      ],
      "metadata": {
        "id": "zx6ryb8PSBSs"
      }
    },
    {
      "cell_type": "code",
      "source": [
        "# Recopilamos la lista de temperaturas mensuales\n",
        "temperaturas_mensuales = []\n",
        "for i in range(0, 12):\n",
        "  temperaturas_mensuales.append(float(input(f'Ingrese la temperatura promedio del mes {i+1}: ')))\n",
        "# Creamos una lista auxiliar para los nombres de los meses\n",
        "meses = ['Enero', 'Febrero', 'Marzo', 'Abril', 'Mayo', 'Junio', 'Julio', 'Agosto', 'Septiembre', 'Octubre', 'Noviembre', 'Diciembre']\n",
        "# Calculamos el promedio\n",
        "media_anual = sum(temperaturas_mensuales) / len(temperaturas_mensuales)\n",
        "\n",
        "# Resultado\n",
        "print('\\nTemperaturas por encima del promedio en: ')\n",
        "for i in range(0, 12):\n",
        "  # Verificamos todas las temperaturas en comparación con la media anual\n",
        "  if temperaturas_mensuales[i] > media_anual:\n",
        "    # Dado que los índices de los meses corresponden a las temperaturas,\n",
        "    # podemos imprimirlos con el mismo índice\n",
        "    print(meses[i])"
      ],
      "metadata": {
        "colab": {
          "base_uri": "https://localhost:8080/"
        },
        "id": "NuWEL3LrSB4_",
        "outputId": "d4b5f145-a3f6-4ae6-b324-8d6dbc4aac6a"
      },
      "execution_count": null,
      "outputs": [
        {
          "output_type": "stream",
          "name": "stdout",
          "text": [
            "Ingrese la temperatura promedio del mes 1: 31\n",
            "Ingrese la temperatura promedio del mes 2: 33\n",
            "Ingrese la temperatura promedio del mes 3: 32\n",
            "Ingrese la temperatura promedio del mes 4: 29\n",
            "Ingrese la temperatura promedio del mes 5: 27\n",
            "Ingrese la temperatura promedio del mes 6: 26\n",
            "Ingrese la temperatura promedio del mes 7: 19\n",
            "Ingrese la temperatura promedio del mes 8: 20\n",
            "Ingrese la temperatura promedio del mes 9: 22\n",
            "Ingrese la temperatura promedio del mes 10: 24\n",
            "Ingrese la temperatura promedio del mes 11: 28\n",
            "Ingrese la temperatura promedio del mes 12: 31\n",
            "\n",
            "Temperaturas por encima del promedio en: \n",
            "Enero\n",
            "Febrero\n",
            "Marzo\n",
            "Abril\n",
            "Mayo\n",
            "Noviembre\n",
            "Diciembre\n"
          ]
        }
      ]
    },
    {
      "cell_type": "markdown",
      "source": [
        "11 - Una empresa de comercio electrónico está interesada en analizar las ventas de sus productos. Los datos de ventas se han almacenado en un diccionario:\n",
        "\n",
        "Escribe un código que calcule el total de ventas y el producto más vendido.\n",
        "\n"
      ],
      "metadata": {
        "id": "UjdFnMWGUjKv"
      }
    },
    {
      "cell_type": "code",
      "source": [
        "{'Producto A': 300, 'Producto B': 80, 'Producto C': 60, 'Producto D': 200, 'Producto E': 250, 'Producto F': 30}"
      ],
      "metadata": {
        "id": "V7o8_snPUj1K"
      },
      "execution_count": null,
      "outputs": []
    },
    {
      "cell_type": "code",
      "source": [
        "# Diccionario de ventas\n",
        "datos_ventas = {'Producto A': 300, 'Producto B': 80, 'Producto C': 60, 'Producto D': 200, 'Producto E': 250, 'Producto F': 30}\n",
        "\n",
        "# Inicializamos las variables\n",
        "total_ventas = 0  # Sumará todas las ventas\n",
        "producto_mas_vendido = ''  # Almacenará el nombre del producto más vendido\n",
        "unidades_producto_mas_vendido = 0  # Almacenará la cantidad más alta de ventas\n",
        "\n",
        "# Recorremos las claves y elementos del diccionario\n",
        "for producto, cantidad in datos_ventas.items():\n",
        "    # Sumamos el total de ventas\n",
        "    total_ventas += cantidad\n",
        "    # Verificamos si el valor de ventas actual (datos_ventas[producto]) es mayor que el valor almacenado en unidades_producto_mas_vendido\n",
        "    # Cada vez que datos_ventas[producto] supere el valor en unidades_producto_mas_vendido,\n",
        "    # la variable unidades_producto_mas_vendido será igual a datos_ventas[producto], asignando un nuevo valor\n",
        "    # De manera similar, producto_mas_vendido también se actualiza con el producto actual\n",
        "    if datos_ventas[producto] > unidades_producto_mas_vendido:\n",
        "        unidades_producto_mas_vendido = datos_ventas[producto]\n",
        "        producto_mas_vendido = producto\n",
        "# Resultados\n",
        "print(f'Total de ventas es {total_ventas}')\n",
        "print(f'{producto_mas_vendido} es el más vendido')\n",
        "\n"
      ],
      "metadata": {
        "colab": {
          "base_uri": "https://localhost:8080/"
        },
        "id": "V4L78-PfUlxp",
        "outputId": "f56881b3-8ab5-4e1d-abc8-1dbf8bbd1deb"
      },
      "execution_count": null,
      "outputs": [
        {
          "output_type": "stream",
          "name": "stdout",
          "text": [
            "Total de ventas es 920\n",
            "Producto A es el más vendido\n"
          ]
        }
      ]
    },
    {
      "cell_type": "markdown",
      "source": [
        "12 - Se realizó una encuesta de mercado para decidir cuál diseño de marca infantil es más atractivo para los niños. Los votos de la encuesta se pueden ver a continuación:\n",
        "\n",
        "Adapta los datos proporcionados a una estructura de diccionario. A partir de ello, informa el diseño ganador y el porcentaje de votos recibidos.\n",
        "\n"
      ],
      "metadata": {
        "id": "YcGTLkgWaX94"
      }
    },
    {
      "cell_type": "code",
      "source": [
        "Tabla de votos de la marca\n",
        "Diseño 1 - 1334 votos\n",
        "Diseño 2 - 982 votos\n",
        "Diseño 3 - 1751 votos\n",
        "Diseño 4 - 210 votos\n",
        "Diseño 5 - 1811 votos"
      ],
      "metadata": {
        "id": "bFSUpCrwaY58"
      },
      "execution_count": null,
      "outputs": []
    },
    {
      "cell_type": "code",
      "source": [
        "# Diccionario de votos por diseño\n",
        "votos = {'Diseño 1': 1334, 'Diseño 2': 982, 'Diseño 3': 1751, 'Diseño 4': 210, 'Diseño 5': 1811}\n",
        "\n",
        "# Inicializamos las variables\n",
        "total_votos = 0  # Sumará todos los votos\n",
        "ganador = ''  # Almacenará el nombre del diseño ganador\n",
        "voto_ganador = 0  # Almacenará la cantidad ganadora de votos\n",
        "\n",
        "# Recorremos las claves y elementos del diccionario\n",
        "for diseño, voto_diseño in votos.items():\n",
        "    # Sumamos el total de votos\n",
        "    total_votos += voto_diseño\n",
        "    # Verificamos si el voto del diseño actual (voto_diseño) es mayor que el valor almacenado en voto_ganador\n",
        "    # Cada vez que voto_diseño supere el valor en voto_ganador,\n",
        "    # la variable voto_ganador será igual a voto_diseño, asignando un nuevo valor\n",
        "    # De manera similar, el ganador también se actualiza con el diseño actual\n",
        "    if voto_diseño > voto_ganador:\n",
        "        voto_ganador = voto_diseño\n",
        "        ganador = diseño\n",
        "# Calculamos el porcentaje del diseño ganador\n",
        "porcentaje = 100 * (voto_ganador) / (total_votos)\n",
        "\n",
        "# Resultado\n",
        "print(f'{ganador} es el ganador: ')\n",
        "print(f'Porcentaje de votos: {porcentaje}%')"
      ],
      "metadata": {
        "colab": {
          "base_uri": "https://localhost:8080/"
        },
        "id": "Y32U8sCaayl_",
        "outputId": "af4c7331-3b52-4fe6-a3f5-da3133a3362f"
      },
      "execution_count": null,
      "outputs": [
        {
          "output_type": "stream",
          "name": "stdout",
          "text": [
            "Diseño 5 es el ganador: \n",
            "Porcentaje de votos: 29.747043363994745%\n"
          ]
        }
      ]
    },
    {
      "cell_type": "markdown",
      "source": [
        "13 - Los empleados de un departamento de tu empresa recibirán una bonificación del 10% de su salario debido a un excelente rendimiento del equipo. El departamento de finanzas ha solicitado tu ayuda para verificar las consecuencias financieras de esta bonificación en los recursos. Se te ha enviado una lista con los salarios que recibirán la bonificación: [1172, 1644, 2617, 5130, 5532, 6341, 6650, 7238, 7685, 7782, 7903]. La bonificación de cada empleado no puede ser inferior a 200. En el código, convierte cada uno de los salarios en claves de un diccionario y la bonificación de cada salario en el valor correspondiente. Luego, informa el gasto total en bonificaciones, cuántos empleados recibieron la bonificación mínima y cuál fue el valor más alto de la bonificación proporcionada.\n",
        "\n"
      ],
      "metadata": {
        "id": "qFOu3QDrcM7m"
      }
    },
    {
      "cell_type": "code",
      "source": [
        "# Lista de salarios\n",
        "salarios = [1172, 1644, 2617, 5130, 5532, 6341, 6650, 7238, 7685, 7782, 7903]\n",
        "# Inicializamos las variables\n",
        "diccionario_abonos = {}  # Diccionario de abonos\n",
        "total_abono = 0  # Sumará todos los gastos en abonos\n",
        "abonos_minimo = 0  # Almacenará la cantidad de abonos mínimos\n",
        "mayor_abono = 0  # Almacenará el mayor valor de abono\n",
        "\n",
        "# Recorremos toda la lista de salarios\n",
        "for salario in salarios:\n",
        "    # Calculamos el valor teórico del abono\n",
        "    abono = salario * 0.1\n",
        "    # Si el abono es inferior a 200,\n",
        "    # ajustamos el valor del abono al mínimo (200)\n",
        "    if abono < 200:\n",
        "        abono = 200\n",
        "    # Agregamos un nuevo dato en el diccionario con la clave abono\n",
        "    diccionario_abonos[salario] = abono\n",
        "\n",
        "# Recorremos todos los valores del diccionario de abonos\n",
        "for abono in diccionario_abonos.values():\n",
        "    # Contamos los salarios mínimos\n",
        "    if abono == 200:\n",
        "        abonos_minimo += 1\n",
        "    # Verificamos si el abono leído es mayor que el valor almacenado en mayor_abono\n",
        "    # Cada vez que el abono supere el valor de mayor_abono,\n",
        "    # la variable mayor_abono será igual al abono, asignando un nuevo valor\n",
        "    if abono > mayor_abono:\n",
        "        mayor_abono = abono\n",
        "    # Sumamos los abonos\n",
        "    total_abono += abono\n",
        "# Resultados\n",
        "print(f'Abonos: {diccionario_abonos}')\n",
        "print(f'Total de gastos en abonos: {total_abono}')\n",
        "print(f'Número de empleados que recibieron el abono mínimo: {abonos_minimo}')\n",
        "print(f'Mayor valor de abono: {mayor_abono}')"
      ],
      "metadata": {
        "id": "hf-LH6kAcNuE",
        "colab": {
          "base_uri": "https://localhost:8080/"
        },
        "outputId": "b23885dc-cf94-4712-92b0-b090fdc57c76"
      },
      "execution_count": 13,
      "outputs": [
        {
          "output_type": "stream",
          "name": "stdout",
          "text": [
            "Abonos: {1172: 200, 1644: 200, 2617: 261.7, 5130: 513.0, 5532: 553.2, 6341: 634.1, 6650: 665.0, 7238: 723.8000000000001, 7685: 768.5, 7782: 778.2, 7903: 790.3000000000001}\n",
            "Total de gastos en abonos: 6087.8\n",
            "Número de empleados que recibieron el abono mínimo: 2\n",
            "Mayor valor de abono: 790.3000000000001\n"
          ]
        }
      ]
    },
    {
      "cell_type": "markdown",
      "source": [
        "14 - Un equipo de científicos de datos está estudiando la diversidad biológica en un bosque. El equipo recopiló información sobre el número de especies de plantas y animales en cada área del bosque y almacenó estos datos en un diccionario. En él, la clave describe el área de los datos y los valores en las listas corresponden a las especies de plantas y animales en esas áreas, respectivamente.\n",
        "\n",
        "Escribe un código para calcular el promedio de especies por área e identificar el área con la mayor diversidad biológica. Sugerencia: utiliza las funciones incorporadas sum() y len().\n",
        "\n"
      ],
      "metadata": {
        "id": "NbUuQjm4miZe"
      }
    },
    {
      "cell_type": "code",
      "source": [
        "{'Área Norte': [2819, 7236], 'Área Este': [1440, 9492], 'Área Sur': [5969, 7496], 'Área Oeste': [14446, 49688], 'Área Centro': [22558, 45148]}"
      ],
      "metadata": {
        "id": "pE6e1DvlnkHw"
      },
      "execution_count": null,
      "outputs": []
    },
    {
      "cell_type": "code",
      "source": [
        "# Especificamos los datos para un diccionario\n",
        "datos = {'Área Norte': [2819, 7236],\n",
        "         'Área Este': [1440, 9492],\n",
        "         'Área Sur': [5969, 7496],\n",
        "         'Área Oeste': [14446, 49688],\n",
        "         'Área Centro': [22558, 45148]}\n",
        "\n",
        "# Inicializamos las variables\n",
        "suma_promedio = 0  # Sumará todos los promedios\n",
        "mayor_diversidad = ''  # Almacenará el área con la mayor diversidad\n",
        "mayor_suma = 0  # Almacenará la mayor suma de especies\n",
        "\n",
        "# Recorremos las claves y elementos del diccionario\n",
        "for area, especies in datos.items():\n",
        "    # Sumamos el número de especies en cada área utilizando la función sum\n",
        "    suma_especies = sum(especies)\n",
        "    # Calculamos el promedio dividiendo la suma de las especies entre la cantidad de especies\n",
        "    promedio = suma_especies / len(especies)\n",
        "    # Imprimimos\n",
        "    print(f'El {area} tiene un promedio de {promedio} especies')\n",
        "\n",
        "    # Verificamos si la suma de especies es mayor que el valor almacenado de mayor_suma\n",
        "    # Cada vez que suma_especies supere el valor de mayor_suma,\n",
        "    # la variable mayor_suma será igual a suma_especies, asignando un nuevo valor\n",
        "    # De manera similar, mayor_diversidad también se actualiza\n",
        "    if suma_especies > mayor_suma:\n",
        "        mayor_suma = suma_especies\n",
        "        mayor_diversidad = area\n",
        "    # Sumamos los promedios\n",
        "    suma_promedio += promedio\n",
        "# La media total será la suma_media dividida por la cantidad de áreas\n",
        "promedio_total = suma_promedio / len(datos)\n",
        "print(f'\\nPromedio general de especies: {promedio_total}')\n",
        "print(f'Área con la mayor diversidad biológica: {mayor_diversidad} con {promedio} especies')"
      ],
      "metadata": {
        "colab": {
          "base_uri": "https://localhost:8080/"
        },
        "id": "zXTkXLeBqkoq",
        "outputId": "d91f06ab-1f4a-4576-9ce9-adef53f47670"
      },
      "execution_count": 17,
      "outputs": [
        {
          "output_type": "stream",
          "name": "stdout",
          "text": [
            "El Área Norte tiene un promedio de 5027.5 especies\n",
            "El Área Este tiene un promedio de 5466.0 especies\n",
            "El Área Sur tiene un promedio de 6732.5 especies\n",
            "El Área Oeste tiene un promedio de 32067.0 especies\n",
            "El Área Centro tiene un promedio de 33853.0 especies\n",
            "\n",
            "Promedio general de especies: 16629.2\n",
            "Área con la mayor diversidad biológica: Área Centro con 33853.0 especies\n"
          ]
        }
      ]
    },
    {
      "cell_type": "markdown",
      "source": [
        "15 - El departamento de Recursos Humanos de tu empresa te pidió ayuda para analizar las edades de los colaboradores de 4 sectores de la empresa. Para ello, te proporcionaron los siguientes datos:\n",
        "\n",
        "Dado que cada sector tiene 10 colaboradores, construye un código que calcule la media de edad de cada sector, la edad media general entre todos los sectores y cuántas personas están por encima de la edad media general.\n",
        "\n"
      ],
      "metadata": {
        "id": "SYG4xUuPr8r5"
      }
    },
    {
      "cell_type": "code",
      "source": [
        "{'Setor A': [22, 26, 30, 30, 35, 38, 40, 56, 57, 65],\n",
        " 'Setor B': [22, 24, 26, 33, 41, 49, 50, 54, 60, 64],\n",
        " 'Setor C': [23, 26, 26, 29, 34, 35, 36, 41, 52, 56],\n",
        " 'Setor D': [19, 20, 25, 27, 34, 39, 42, 44, 50, 65]}"
      ],
      "metadata": {
        "id": "vAbrYb_IsBMb"
      },
      "execution_count": null,
      "outputs": []
    },
    {
      "cell_type": "code",
      "source": [
        "datos = {\n",
        "    'Setor A': [22, 26, 30, 30, 35, 38, 40, 56, 57, 65],\n",
        "    'Setor B': [22, 24, 26, 33, 41, 49, 50, 54, 60, 64],\n",
        "    'Setor C': [23, 26, 26, 29, 34, 35, 36, 41, 52, 56],\n",
        "    'Setor D': [19, 20, 25, 27, 34, 39, 42, 44, 50, 65]\n",
        "}\n",
        "\n",
        "# Calcular la media de cada sector\n",
        "print(\"Media de edad por sector:\")\n",
        "medias = []\n",
        "todas_las_edades = []\n",
        "\n",
        "for sector, edades in datos.items():\n",
        "    media = sum(edades) / len(edades)\n",
        "    medias.append(media)\n",
        "    todas_las_edades.extend(edades)\n",
        "    print(f\"{sector}: {media:.2f} años\")\n",
        "\n",
        "# Calcular la media general\n",
        "media_general = sum(todas_las_edades) / len(todas_las_edades)\n",
        "print(f\"\\nEdad media general: {media_general:.2f} años\")\n",
        "\n",
        "# Contar cuántas personas están por encima de la media general\n",
        "mayores = [edad for edad in todas_las_edades if edad > media_general]\n",
        "print(f\"Cantidad de personas por encima de la media general: {len(mayores)}\")\n"
      ],
      "metadata": {
        "colab": {
          "base_uri": "https://localhost:8080/"
        },
        "id": "v871Yt90yu_E",
        "outputId": "ed9ec17c-7dd9-492e-a996-a78edc3214f4"
      },
      "execution_count": 29,
      "outputs": [
        {
          "output_type": "stream",
          "name": "stdout",
          "text": [
            "Media de edad por sector:\n",
            "Setor A: 39.90 años\n",
            "Setor B: 42.30 años\n",
            "Setor C: 35.80 años\n",
            "Setor D: 36.50 años\n",
            "\n",
            "Edad media general: 38.62 años\n",
            "Cantidad de personas por encima de la media general: 18\n"
          ]
        }
      ]
    },
    {
      "cell_type": "code",
      "source": [
        "# Especificamos los datos para un diccionario\n",
        "datos = {'Sector A': [22, 26, 30, 30, 35, 38, 40, 56, 57, 65],\n",
        "        'Sector B': [22, 24, 26, 33, 41, 49, 50, 54, 60, 64],\n",
        "        'Sector C': [23, 26, 26, 29, 34, 35, 36, 41, 52, 56],\n",
        "        'Sector D': [19, 20, 25, 27, 34, 39, 42, 44, 50, 65]}\n",
        "# Inicializamos la variable que sumará todas las edades\n",
        "total_edades = 0\n",
        "# Recorremos las claves y elementos del diccionario\n",
        "for sector, edades in datos.items():\n",
        "  # Calculamos el promedio dividiendo la suma de las edades entre la cantidad de empleados en cada sector\n",
        "  media_edad = sum(edades) / len(edades)\n",
        "  # Imprimimos\n",
        "  print(f'El {sector} tiene un promedio de {media_edad}')\n",
        "  # Sumamos los promedios\n",
        "  total_edades += sum(edades)\n",
        "# La media total será el total_edades dividido por la cantidad de personas totales (sectores * empleados por sector)\n",
        "media_total = total_edades / (len(edades) * len(datos))\n",
        "print(f'\\nLa media de edad general es {media_total}')\n",
        "\n",
        "# Inicializamos la variable que contará a todas las personas con edades por encima de la media\n",
        "arriba_media = 0\n",
        "# Recorremos nuevamente las claves y elementos del diccionario\n",
        "for sector, edades in datos.items():\n",
        "  # Leemos los elementos (edades) dentro de cada lista de edades en el diccionario\n",
        "  for edad in edades:\n",
        "    # Verificamos si el valor de la edad es superior a la media total\n",
        "    if edad > media_total:\n",
        "      # En caso de que el valor de la edad sea superior a la media, incrementamos en uno el contador\n",
        "      arriba_media += 1\n",
        "# Resultado\n",
        "print(f'\\n{arriba_media} personas están por encima de la edad media general')"
      ],
      "metadata": {
        "colab": {
          "base_uri": "https://localhost:8080/"
        },
        "id": "A6FOXNHqz9z6",
        "outputId": "eba1598e-e079-4e5c-deea-e17b87aea50a"
      },
      "execution_count": 32,
      "outputs": [
        {
          "output_type": "stream",
          "name": "stdout",
          "text": [
            "El Sector A tiene un promedio de 39.9\n",
            "El Sector B tiene un promedio de 42.3\n",
            "El Sector C tiene un promedio de 35.8\n",
            "El Sector D tiene un promedio de 36.5\n",
            "\n",
            "La media de edad general es 38.625\n",
            "\n",
            "18 personas están por encima de la edad media general\n"
          ]
        }
      ]
    }
  ]
}