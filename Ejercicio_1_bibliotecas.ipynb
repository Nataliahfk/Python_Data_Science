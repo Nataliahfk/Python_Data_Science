{
  "nbformat": 4,
  "nbformat_minor": 0,
  "metadata": {
    "colab": {
      "provenance": [],
      "authorship_tag": "ABX9TyNCdS4t+sXHq2ZqwbMDRqmn",
      "include_colab_link": true
    },
    "kernelspec": {
      "name": "python3",
      "display_name": "Python 3"
    },
    "language_info": {
      "name": "python"
    }
  },
  "cells": [
    {
      "cell_type": "markdown",
      "metadata": {
        "id": "view-in-github",
        "colab_type": "text"
      },
      "source": [
        "<a href=\"https://colab.research.google.com/github/Nataliahfk/Python_Data_Science/blob/main/Ejercicio_1_bibliotecas.ipynb\" target=\"_parent\"><img src=\"https://colab.research.google.com/assets/colab-badge.svg\" alt=\"Open In Colab\"/></a>"
      ]
    },
    {
      "cell_type": "markdown",
      "source": [
        "1 - Escribe un código para instalar la versión 3.7.1 de la biblioteca matplotlib.\n",
        "\n",
        "\n"
      ],
      "metadata": {
        "id": "ewau7GQBZXpJ"
      }
    },
    {
      "cell_type": "code",
      "source": [
        "# pip install matplotlib==3.7.1  // este comando es para instalar esta versión"
      ],
      "metadata": {
        "id": "MncQf5-jZqOk"
      },
      "execution_count": null,
      "outputs": []
    },
    {
      "cell_type": "markdown",
      "source": [
        "2 - Escribe un código para importar la biblioteca numpy con el alias np.\n",
        "\n"
      ],
      "metadata": {
        "id": "AfZ37hw2Zzby"
      }
    },
    {
      "cell_type": "code",
      "source": [
        "import numpy as np"
      ],
      "metadata": {
        "id": "afo0J_UyZbXM"
      },
      "execution_count": null,
      "outputs": []
    },
    {
      "cell_type": "markdown",
      "source": [
        "3 - Crea un programa que lea la siguiente lista de números y elija uno al azar.\n",
        "\n"
      ],
      "metadata": {
        "id": "MxwVa36sZyrm"
      }
    },
    {
      "cell_type": "code",
      "source": [
        "lista = [8, 12, 54, 23, 43, 1, 90, 87, 105, 77]\n",
        "lista"
      ],
      "metadata": {
        "colab": {
          "base_uri": "https://localhost:8080/"
        },
        "id": "dhdQQ0JcZ5kL",
        "outputId": "b82cba39-8ea1-41bd-ec32-f2540ea6a4fb"
      },
      "execution_count": 7,
      "outputs": [
        {
          "output_type": "execute_result",
          "data": {
            "text/plain": [
              "[8, 12, 54, 23, 43, 1, 90, 87, 105, 77]"
            ]
          },
          "metadata": {},
          "execution_count": 7
        }
      ]
    },
    {
      "cell_type": "code",
      "source": [
        "from random import choice\n",
        "\n",
        "lista_1 = choice(lista)\n",
        "lista_1"
      ],
      "metadata": {
        "colab": {
          "base_uri": "https://localhost:8080/"
        },
        "id": "r1PBbzJLaA9C",
        "outputId": "6da07528-5acc-4620-c28e-1ef6f6267f37"
      },
      "execution_count": 16,
      "outputs": [
        {
          "output_type": "execute_result",
          "data": {
            "text/plain": [
              "8"
            ]
          },
          "metadata": {},
          "execution_count": 16
        }
      ]
    },
    {
      "cell_type": "code",
      "source": [
        "import random\n",
        "\n",
        "lista = [8, 12, 54, 23, 43, 1, 90, 87, 105, 77]\n",
        "numero_aleatorio = random.choice(lista)\n",
        "numero_aleatorio"
      ],
      "metadata": {
        "colab": {
          "base_uri": "https://localhost:8080/"
        },
        "id": "KQ7G_NUBbNTr",
        "outputId": "f17c8af6-5561-47bc-afb2-79726612547a"
      },
      "execution_count": 13,
      "outputs": [
        {
          "output_type": "execute_result",
          "data": {
            "text/plain": [
              "105"
            ]
          },
          "metadata": {},
          "execution_count": 13
        }
      ]
    },
    {
      "cell_type": "markdown",
      "source": [
        "4 - Crea un programa que genere aleatoriamente un número entero menor que 100.\n",
        "\n"
      ],
      "metadata": {
        "id": "aQa0m--ZbpXR"
      }
    },
    {
      "cell_type": "code",
      "source": [
        "import random\n",
        "\n",
        "numero = random.randint(1,100)\n",
        "numero"
      ],
      "metadata": {
        "colab": {
          "base_uri": "https://localhost:8080/"
        },
        "id": "VTwo9aUSbp-V",
        "outputId": "53c5a6bd-f5ce-4acb-ceb5-a3ac72e2d29e"
      },
      "execution_count": 19,
      "outputs": [
        {
          "output_type": "execute_result",
          "data": {
            "text/plain": [
              "14"
            ]
          },
          "metadata": {},
          "execution_count": 19
        }
      ]
    },
    {
      "cell_type": "code",
      "source": [
        "import random\n",
        "numero_aleatorio = random.randrange(100)\n",
        "print(numero_aleatorio)"
      ],
      "metadata": {
        "colab": {
          "base_uri": "https://localhost:8080/"
        },
        "id": "J5WEnE8kcHX3",
        "outputId": "6f6d0eb7-784a-4dbb-d029-70622d7db1ac"
      },
      "execution_count": 20,
      "outputs": [
        {
          "output_type": "stream",
          "name": "stdout",
          "text": [
            "96\n"
          ]
        }
      ]
    },
    {
      "cell_type": "markdown",
      "source": [
        "5 - Crea un programa que solicite a la persona usuaria ingresar dos números enteros y calcule la potencia del primer número elevado al segundo.\n",
        "\n"
      ],
      "metadata": {
        "id": "eUOW82BTciLB"
      }
    },
    {
      "cell_type": "code",
      "source": [
        "import math\n",
        "\n",
        "num1 = int(input('Ingresa el primer número: '))\n",
        "num2 = int(input('Ingresa el segundo número: '))\n",
        "\n",
        "potencia = math.pow(num1, num2)\n",
        "print(f\"\\nLa potencia de {num1} elevado a {num2} es: {potencia}\")"
      ],
      "metadata": {
        "colab": {
          "base_uri": "https://localhost:8080/"
        },
        "id": "Ghl4c_E5cjRj",
        "outputId": "bc967ece-c0b5-4fce-9c82-b87d949683d4"
      },
      "execution_count": 27,
      "outputs": [
        {
          "output_type": "stream",
          "name": "stdout",
          "text": [
            "Ingresa el primer número: 4\n",
            "Ingresa el segundo número: 3\n",
            "\n",
            "La potencia de 4 elevado a 3 es: 64.0\n"
          ]
        }
      ]
    },
    {
      "cell_type": "markdown",
      "source": [
        "6 - Se debe escribir un programa para sortear a un seguidor de una red social para ganar un premio. La lista de participantes está numerada y debemos elegir aleatoriamente un número según la cantidad de participantes. Pide a la persona usuaria que proporcione el número de participantes del sorteo y devuelve el número sorteado.\n",
        "\n"
      ],
      "metadata": {
        "id": "XlV7g-dPfBXy"
      }
    },
    {
      "cell_type": "code",
      "source": [
        "import random\n",
        "\n",
        "cantidad_participantes = int(input(\"Ingrese la cantidad de participantes: \"))\n",
        "numero_sorteado = random.randint(1, cantidad_participantes)\n",
        "print(f\"El número sorteado es: {numero_sorteado}\")\n"
      ],
      "metadata": {
        "colab": {
          "base_uri": "https://localhost:8080/"
        },
        "id": "7rfuQ_RLfCMB",
        "outputId": "5e44d507-b47d-4c1e-9e99-21d3df106fc2"
      },
      "execution_count": 29,
      "outputs": [
        {
          "output_type": "stream",
          "name": "stdout",
          "text": [
            "Ingrese la cantidad de participantes: 9\n",
            "El número sorteado es: 8\n"
          ]
        }
      ]
    },
    {
      "cell_type": "markdown",
      "source": [
        "7 - Has recibido una solicitud para generar números de token para acceder a la aplicación de una empresa. El token debe ser par y variar de 1000 a 9998. Escribe un código que solicite el nombre de la persona usuaria y muestre un mensaje junto a este token generado aleatoriamente.\n",
        "\n"
      ],
      "metadata": {
        "id": "P_YFVTF4kGAG"
      }
    },
    {
      "cell_type": "code",
      "source": [
        "import random\n",
        "\n",
        "nombre_usuario = input('Ingrese un nombre: ')\n",
        "\n",
        "token_generado = random.randrange(1000,9998,2)\n",
        "\n",
        "print(f\"Hola {nombre_usuario}, tu token de acceso es: {token_generado}\\n¡Bienvenido/a!\")"
      ],
      "metadata": {
        "colab": {
          "base_uri": "https://localhost:8080/"
        },
        "id": "nFncF6y-lEWU",
        "outputId": "2d1c5dac-0bdb-46a9-ff95-c41d58262d06"
      },
      "execution_count": 40,
      "outputs": [
        {
          "output_type": "stream",
          "name": "stdout",
          "text": [
            "Ingrese un nombre: Natalia\n",
            "Hola Natalia, tu token de acceso es: 1018\n",
            "¡Bienvenido/a!\n"
          ]
        }
      ]
    },
    {
      "cell_type": "markdown",
      "source": [
        "8 - Para diversificar y atraer nuevos clientes, una lanchonete creó un ítem misterioso en su menú llamado \"ensalada de frutas sorpresa\". En este ítem, se eligen aleatoriamente 3 frutas de una lista de 12 para componer la ensalada de frutas del cliente. Crea el código que realice esta selección aleatoria según la lista dada.\n",
        "\n"
      ],
      "metadata": {
        "id": "lR-sCEvpnycS"
      }
    },
    {
      "cell_type": "code",
      "source": [
        "frutas = [\"manzana\", \"banana\", \"uva\", \"pera\", \"mango\", \"coco\", \"sandia\", \"fresa\", \"naranja\", \"maracuya\", \"kiwi\", \"cereza\"]\n",
        "frutas"
      ],
      "metadata": {
        "colab": {
          "base_uri": "https://localhost:8080/"
        },
        "id": "i9yPeU7SnzK_",
        "outputId": "6fa0187f-d4fd-4d3c-f401-7e3a11a26bc9"
      },
      "execution_count": 43,
      "outputs": [
        {
          "output_type": "execute_result",
          "data": {
            "text/plain": [
              "['manzana',\n",
              " 'banana',\n",
              " 'uva',\n",
              " 'pera',\n",
              " 'mango',\n",
              " 'coco',\n",
              " 'sandia',\n",
              " 'fresa',\n",
              " 'naranja',\n",
              " 'maracuya',\n",
              " 'kiwi',\n",
              " 'cereza']"
            ]
          },
          "metadata": {},
          "execution_count": 43
        }
      ]
    },
    {
      "cell_type": "code",
      "source": [
        "ensalada_frutas_sorpresa = []\n",
        "frutas = [\"manzana\", \"banana\", \"uva\", \"pera\", \"mango\", \"coco\", \"sandia\", \"fresa\", \"naranja\", \"maracuya\", \"kiwi\", \"cereza\"]\n",
        "\n",
        "for i in range(1,4):\n",
        "  fruta_aleatoria = random.choice(frutas)\n",
        "  ensalada_frutas_sorpresa.append(fruta_aleatoria)\n",
        "\n",
        "print(f'Tu ensalada de frutas sorpresa esta compuesta por: {ensalada_frutas_sorpresa}')\n"
      ],
      "metadata": {
        "colab": {
          "base_uri": "https://localhost:8080/"
        },
        "id": "htle0N2doMmN",
        "outputId": "7f5cad22-7d01-48d5-da31-2405dffadd39"
      },
      "execution_count": 47,
      "outputs": [
        {
          "output_type": "stream",
          "name": "stdout",
          "text": [
            "Tu ensalada de frutas sorpresa esta compuesta por: ['maracuya', 'coco', 'manzana']\n"
          ]
        }
      ]
    },
    {
      "cell_type": "code",
      "source": [
        "import random\n",
        "\n",
        "frutas = [\"manzana\", \"banana\", \"uva\", \"pera\", \"mango\", \"coco\", \"sandia\", \"fresa\", \"naranja\", \"maracuya\", \"kiwi\", \"cereza\"]\n",
        "seleccion_frutas = random.sample(frutas, 3)\n",
        "print(\"Ensalada de frutas sorpresa:\", seleccion_frutas)"
      ],
      "metadata": {
        "colab": {
          "base_uri": "https://localhost:8080/"
        },
        "id": "Xys_qzijpZUe",
        "outputId": "2db1cf0f-ba6d-43ea-b457-6f352108054f"
      },
      "execution_count": 46,
      "outputs": [
        {
          "output_type": "stream",
          "name": "stdout",
          "text": [
            "Ensalada de frutas sorpresa: ['manzana', 'uva', 'pera']\n"
          ]
        }
      ]
    }
  ]
}