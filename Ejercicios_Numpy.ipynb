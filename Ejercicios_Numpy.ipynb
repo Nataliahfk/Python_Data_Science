{
  "nbformat": 4,
  "nbformat_minor": 0,
  "metadata": {
    "colab": {
      "provenance": [],
      "authorship_tag": "ABX9TyMKUeLGhVUANYEF6SFf/9as",
      "include_colab_link": true
    },
    "kernelspec": {
      "name": "python3",
      "display_name": "Python 3"
    },
    "language_info": {
      "name": "python"
    }
  },
  "cells": [
    {
      "cell_type": "markdown",
      "metadata": {
        "id": "view-in-github",
        "colab_type": "text"
      },
      "source": [
        "<a href=\"https://colab.research.google.com/github/Nataliahfk/Python_Data_Science/blob/main/Ejercicios_Numpy.ipynb\" target=\"_parent\"><img src=\"https://colab.research.google.com/assets/colab-badge.svg\" alt=\"Open In Colab\"/></a>"
      ]
    },
    {
      "cell_type": "markdown",
      "source": [
        "Continuando con el proyecto de las naranjas/toronjas, ahora debes seleccionar parte de los datos. Las columnas que evaluaremos son el diámetro y el peso. Crea arrays específicos para almacenar el diámetro y el peso de la naranja y la toronja. El diámetro está en la columna cero y el peso en la columna uno. Los datos de las naranjas van hasta la fila 4999 y los datos de las toronjas comienzan en la fila 5000 del archivo.\n",
        "\n",
        "Después de seleccionar los datos, importa la biblioteca matplotlib y crea un gráfico para el peso en función del diámetro tanto para las naranjas como para las toronjas."
      ],
      "metadata": {
        "id": "rCHrlDdvGjX1"
      }
    },
    {
      "cell_type": "code",
      "source": [
        "url_citrus = 'https://gist.githubusercontent.com/ahcamachod/9be09de793dc3bf1e6c3d98eb4e5b1ef/raw/21b85572693200040e11284ef6dcfc3457ec8e11/citrus.csv'\n",
        "\n",
        "import numpy as np\n",
        "datos_citrus = np.loadtxt(url_citrus, delimiter=',', skiprows=1, usecols= np.arange(1,6,1))\n",
        "datos_citrus"
      ],
      "metadata": {
        "colab": {
          "base_uri": "https://localhost:8080/"
        },
        "id": "LeY7nG35GoQ2",
        "outputId": "cde3fc8b-ea13-40b4-b3ac-b05af1f38447"
      },
      "execution_count": 1,
      "outputs": [
        {
          "output_type": "execute_result",
          "data": {
            "text/plain": [
              "array([[  2.96,  86.76, 172.  ,  85.  ,   2.  ],\n",
              "       [  3.91,  88.05, 166.  ,  78.  ,   3.  ],\n",
              "       [  4.42,  95.17, 156.  ,  81.  ,   2.  ],\n",
              "       ...,\n",
              "       [ 15.59, 256.5 , 168.  ,  82.  ,  20.  ],\n",
              "       [ 15.92, 260.14, 142.  ,  72.  ,  11.  ],\n",
              "       [ 16.45, 261.51, 152.  ,  74.  ,   2.  ]])"
            ]
          },
          "metadata": {},
          "execution_count": 1
        }
      ]
    },
    {
      "cell_type": "code",
      "source": [
        "diametro = datos_citrus[:,0] # array completo del diametro\n",
        "diametro"
      ],
      "metadata": {
        "colab": {
          "base_uri": "https://localhost:8080/"
        },
        "id": "GQMuY4RyGuH1",
        "outputId": "cd77f766-8dcd-4bd3-9a6b-66e783e36652"
      },
      "execution_count": 2,
      "outputs": [
        {
          "output_type": "execute_result",
          "data": {
            "text/plain": [
              "array([ 2.96,  3.91,  4.42, ..., 15.59, 15.92, 16.45])"
            ]
          },
          "metadata": {},
          "execution_count": 2
        }
      ]
    },
    {
      "cell_type": "code",
      "source": [
        "peso = datos_citrus[:,1] # array completo del peso\n",
        "peso"
      ],
      "metadata": {
        "colab": {
          "base_uri": "https://localhost:8080/"
        },
        "id": "RG_C27EIGzth",
        "outputId": "f16cb40a-e0f9-4d6f-ab56-ac36b636de44"
      },
      "execution_count": 3,
      "outputs": [
        {
          "output_type": "execute_result",
          "data": {
            "text/plain": [
              "array([ 86.76,  88.05,  95.17, ..., 256.5 , 260.14, 261.51])"
            ]
          },
          "metadata": {},
          "execution_count": 3
        }
      ]
    },
    {
      "cell_type": "code",
      "source": [
        "diametro_naranjas = datos_citrus[:5000, 0] # todo hasta el dato 5000 en la posición 0 que corresponde al diametro de las naranjas\n",
        "diametro_naranjas"
      ],
      "metadata": {
        "colab": {
          "base_uri": "https://localhost:8080/"
        },
        "id": "0GDPUX36G1Fl",
        "outputId": "a728a79f-9dfd-4c1e-c4d1-f1dbd0cf4c15"
      },
      "execution_count": 4,
      "outputs": [
        {
          "output_type": "execute_result",
          "data": {
            "text/plain": [
              "array([ 2.96,  3.91,  4.42, ..., 12.55, 12.75, 12.87])"
            ]
          },
          "metadata": {},
          "execution_count": 4
        }
      ]
    },
    {
      "cell_type": "code",
      "source": [
        "diametro_toronjas = datos_citrus[5000:, 0] # desde el 5000 en adelante, en la posición 1 que corresponde al diametro de las toronjas\n",
        "diametro_toronjas"
      ],
      "metadata": {
        "colab": {
          "base_uri": "https://localhost:8080/"
        },
        "id": "h0BbzXspG-x2",
        "outputId": "ffd94745-c720-4bbb-d5b9-4b1d014ca873"
      },
      "execution_count": 5,
      "outputs": [
        {
          "output_type": "execute_result",
          "data": {
            "text/plain": [
              "array([ 7.63,  7.69,  7.72, ..., 15.59, 15.92, 16.45])"
            ]
          },
          "metadata": {},
          "execution_count": 5
        }
      ]
    },
    {
      "cell_type": "code",
      "source": [
        "peso_naranjas = datos_citrus[:5000, 1] # todo hasta el dato 5000 en la posición 0 que corresponde al peso de las naranjas\n",
        "peso_naranjas"
      ],
      "metadata": {
        "colab": {
          "base_uri": "https://localhost:8080/"
        },
        "id": "z7mKTaD1HIXg",
        "outputId": "6f044d0a-cf4b-4ce3-9a23-e0211694d5c7"
      },
      "execution_count": 6,
      "outputs": [
        {
          "output_type": "execute_result",
          "data": {
            "text/plain": [
              "array([ 86.76,  88.05,  95.17, ..., 218.07, 230.13, 231.09])"
            ]
          },
          "metadata": {},
          "execution_count": 6
        }
      ]
    },
    {
      "cell_type": "code",
      "source": [
        "peso_toronjas = datos_citrus[5000:, 1] # desde el 5000 en adelante, en la posición 1 que corresponde al peso de las toronjas\n",
        "peso_toronjas"
      ],
      "metadata": {
        "colab": {
          "base_uri": "https://localhost:8080/"
        },
        "id": "A97NvwxuHMz2",
        "outputId": "35cf11a0-6bf2-4de1-9885-579d29ce0988"
      },
      "execution_count": 7,
      "outputs": [
        {
          "output_type": "execute_result",
          "data": {
            "text/plain": [
              "array([126.79, 133.98, 135.56, ..., 256.5 , 260.14, 261.51])"
            ]
          },
          "metadata": {},
          "execution_count": 7
        }
      ]
    },
    {
      "cell_type": "code",
      "source": [
        "import matplotlib.pyplot as plt\n",
        "plt.plot(diametro_naranjas, peso_naranjas)\n",
        "plt.plot(diametro_toronjas, peso_toronjas)\n",
        "plt.xlabel('Diametro (cm)')\n",
        "plt.ylabel('Peso (gr)')\n",
        "plt.legend(['Naranjas', 'Toronjas'])\n",
        "plt.show()"
      ],
      "metadata": {
        "colab": {
          "base_uri": "https://localhost:8080/",
          "height": 449
        },
        "id": "cbUL_LtUHcEm",
        "outputId": "aa81e84d-5ae6-428b-cbeb-60abdcd33951"
      },
      "execution_count": 10,
      "outputs": [
        {
          "output_type": "display_data",
          "data": {
            "text/plain": [
              "<Figure size 640x480 with 1 Axes>"
            ],
            "image/png": "[encoded data removed]"
          },
          "metadata": {}
        }
      ]
    }
  ]
}