{
  "nbformat": 4,
  "nbformat_minor": 0,
  "metadata": {
    "colab": {
      "provenance": [],
      "authorship_tag": "ABX9TyP4LgSm8mjpZkxnQ4KM8Ai2",
      "include_colab_link": true
    },
    "kernelspec": {
      "name": "python3",
      "display_name": "Python 3"
    },
    "language_info": {
      "name": "python"
    }
  },
  "cells": [
    {
      "cell_type": "markdown",
      "metadata": {
        "id": "view-in-github",
        "colab_type": "text"
      },
      "source": [
        "<a href=\"https://colab.research.google.com/github/Nataliahfk/Python_Data_Science/blob/main/Ejercicios_Numpy.ipynb\" target=\"_parent\"><img src=\"https://colab.research.google.com/assets/colab-badge.svg\" alt=\"Open In Colab\"/></a>"
      ]
    },
    {
      "cell_type": "markdown",
      "source": [
        "Continuando con el proyecto de las naranjas/toronjas, ahora debes seleccionar parte de los datos. Las columnas que evaluaremos son el diámetro y el peso. Crea arrays específicos para almacenar el diámetro y el peso de la naranja y la toronja. El diámetro está en la columna cero y el peso en la columna uno. Los datos de las naranjas van hasta la fila 4999 y los datos de las toronjas comienzan en la fila 5000 del archivo.\n",
        "\n",
        "Después de seleccionar los datos, importa la biblioteca matplotlib y crea un gráfico para el peso en función del diámetro tanto para las naranjas como para las toronjas."
      ],
      "metadata": {
        "id": "rCHrlDdvGjX1"
      }
    },
    {
      "cell_type": "code",
      "source": [
        "url_citrus = 'https://gist.githubusercontent.com/ahcamachod/9be09de793dc3bf1e6c3d98eb4e5b1ef/raw/21b85572693200040e11284ef6dcfc3457ec8e11/citrus.csv'\n",
        "\n",
        "import numpy as np\n",
        "datos_citrus = np.loadtxt(url_citrus, delimiter=',', skiprows=1, usecols= np.arange(1,6,1))\n",
        "datos_citrus"
      ],
      "metadata": {
        "colab": {
          "base_uri": "https://localhost:8080/"
        },
        "id": "LeY7nG35GoQ2",
        "outputId": "91c8ae6b-db87-41d5-8b2c-4bd08bfa1e25"
      },
      "execution_count": 1,
      "outputs": [
        {
          "output_type": "execute_result",
          "data": {
            "text/plain": [
              "array([[  2.96,  86.76, 172.  ,  85.  ,   2.  ],\n",
              "       [  3.91,  88.05, 166.  ,  78.  ,   3.  ],\n",
              "       [  4.42,  95.17, 156.  ,  81.  ,   2.  ],\n",
              "       ...,\n",
              "       [ 15.59, 256.5 , 168.  ,  82.  ,  20.  ],\n",
              "       [ 15.92, 260.14, 142.  ,  72.  ,  11.  ],\n",
              "       [ 16.45, 261.51, 152.  ,  74.  ,   2.  ]])"
            ]
          },
          "metadata": {},
          "execution_count": 1
        }
      ]
    },
    {
      "cell_type": "code",
      "source": [
        "diametro = datos_citrus[:,0] # array completo del diametro\n",
        "diametro"
      ],
      "metadata": {
        "colab": {
          "base_uri": "https://localhost:8080/"
        },
        "id": "GQMuY4RyGuH1",
        "outputId": "ecb70f67-5914-42e8-c16e-feb58be00468"
      },
      "execution_count": 2,
      "outputs": [
        {
          "output_type": "execute_result",
          "data": {
            "text/plain": [
              "array([ 2.96,  3.91,  4.42, ..., 15.59, 15.92, 16.45])"
            ]
          },
          "metadata": {},
          "execution_count": 2
        }
      ]
    },
    {
      "cell_type": "code",
      "source": [
        "peso = datos_citrus[:,1] # array completo del peso\n",
        "peso"
      ],
      "metadata": {
        "colab": {
          "base_uri": "https://localhost:8080/"
        },
        "id": "RG_C27EIGzth",
        "outputId": "183770f5-3763-4755-9c62-af4e3fdac494"
      },
      "execution_count": 3,
      "outputs": [
        {
          "output_type": "execute_result",
          "data": {
            "text/plain": [
              "array([ 86.76,  88.05,  95.17, ..., 256.5 , 260.14, 261.51])"
            ]
          },
          "metadata": {},
          "execution_count": 3
        }
      ]
    },
    {
      "cell_type": "code",
      "source": [
        "diametro_naranjas = datos_citrus[:5000, 0] # todo hasta el dato 5000 en la posición 0 que corresponde al diametro de las naranjas\n",
        "diametro_naranjas"
      ],
      "metadata": {
        "colab": {
          "base_uri": "https://localhost:8080/"
        },
        "id": "0GDPUX36G1Fl",
        "outputId": "c4640ab8-f57f-4603-99f2-10c20f172b95"
      },
      "execution_count": 4,
      "outputs": [
        {
          "output_type": "execute_result",
          "data": {
            "text/plain": [
              "array([ 2.96,  3.91,  4.42, ..., 12.55, 12.75, 12.87])"
            ]
          },
          "metadata": {},
          "execution_count": 4
        }
      ]
    },
    {
      "cell_type": "code",
      "source": [
        "diametro_toronjas = datos_citrus[5000:, 0] # desde el 5000 en adelante, en la posición 1 que corresponde al diametro de las toronjas\n",
        "diametro_toronjas"
      ],
      "metadata": {
        "colab": {
          "base_uri": "https://localhost:8080/"
        },
        "id": "h0BbzXspG-x2",
        "outputId": "59d5ccdb-cc23-47b2-9fd5-349c5a159dd1"
      },
      "execution_count": 5,
      "outputs": [
        {
          "output_type": "execute_result",
          "data": {
            "text/plain": [
              "array([ 7.63,  7.69,  7.72, ..., 15.59, 15.92, 16.45])"
            ]
          },
          "metadata": {},
          "execution_count": 5
        }
      ]
    },
    {
      "cell_type": "code",
      "source": [
        "peso_naranjas = datos_citrus[:5000, 1] # todo hasta el dato 5000 en la posición 0 que corresponde al peso de las naranjas\n",
        "peso_naranjas"
      ],
      "metadata": {
        "colab": {
          "base_uri": "https://localhost:8080/"
        },
        "id": "z7mKTaD1HIXg",
        "outputId": "e49a98cd-8cad-40c5-ac0c-15e9f84b6d2f"
      },
      "execution_count": 6,
      "outputs": [
        {
          "output_type": "execute_result",
          "data": {
            "text/plain": [
              "array([ 86.76,  88.05,  95.17, ..., 218.07, 230.13, 231.09])"
            ]
          },
          "metadata": {},
          "execution_count": 6
        }
      ]
    },
    {
      "cell_type": "code",
      "source": [
        "peso_toronjas = datos_citrus[5000:, 1] # desde el 5000 en adelante, en la posición 1 que corresponde al peso de las toronjas\n",
        "peso_toronjas"
      ],
      "metadata": {
        "colab": {
          "base_uri": "https://localhost:8080/"
        },
        "id": "A97NvwxuHMz2",
        "outputId": "ab98a777-35f7-4288-9f6e-53a82a656a95"
      },
      "execution_count": 7,
      "outputs": [
        {
          "output_type": "execute_result",
          "data": {
            "text/plain": [
              "array([126.79, 133.98, 135.56, ..., 256.5 , 260.14, 261.51])"
            ]
          },
          "metadata": {},
          "execution_count": 7
        }
      ]
    },
    {
      "cell_type": "code",
      "source": [
        "import matplotlib.pyplot as plt\n",
        "plt.plot(diametro_naranjas, peso_naranjas)\n",
        "plt.plot(diametro_toronjas, peso_toronjas)\n",
        "plt.xlabel('Diametro (cm)')\n",
        "plt.ylabel('Peso (gr)')\n",
        "plt.legend(['Naranjas', 'Toronjas'])\n",
        "plt.show()"
      ],
      "metadata": {
        "colab": {
          "base_uri": "https://localhost:8080/",
          "height": 449
        },
        "id": "cbUL_LtUHcEm",
        "outputId": "5657169e-4126-488c-9157-9eb95ebef452"
      },
      "execution_count": 8,
      "outputs": [
        {
          "output_type": "display_data",
          "data": {
            "text/plain": [
              "<Figure size 640x480 with 1 Axes>"
            ],
            "image/png": "[encoded data removed]"
          },
          "metadata": {}
        }
      ]
    },
    {
      "cell_type": "markdown",
      "source": [
        "## Ejercicio de Regresión Lineal"
      ],
      "metadata": {
        "id": "d4wRN6BoSQUa"
      }
    },
    {
      "cell_type": "markdown",
      "source": [
        "Ha llegado el momento de poner a prueba los conocimientos adquiridos durante la lección. Continuando con el proyecto de las naranjas/toronjas, ahora debes calcular el coeficiente angular (pendiente) y lineal (intersección con y) para la recta de las naranjas y para la recta de las toronjas. Utiliza la fórmula de mínimos cuadrados para encontrar cada uno."
      ],
      "metadata": {
        "id": "Z3Csew7MPVir"
      }
    },
    {
      "cell_type": "code",
      "source": [
        "#para las naranjas\n",
        "y = peso_naranjas\n",
        "x = diametro_naranjas\n",
        "n = np.size(x)\n",
        "\n",
        "#entonces\n",
        "a = (n*np.sum(x*y) - np.sum(x)*np.sum(y)) / (n*np.sum(x**2) - np.sum(x)**2)\n",
        "b = np.mean(y) - a * np.mean(x)\n",
        "\n",
        "print(f'La pendiente es: {a}\\nLa intersección es {b}')\n",
        "\n",
        "#ahora lo grafico\n",
        "\n",
        "plt.plot(x,y)\n",
        "plt.plot(x, a * x + b)\n",
        "plt.ylabel('Peso')\n",
        "plt.xlabel('Diametro')\n",
        "plt.show()\n",
        "\n",
        "#para las toronjas\n",
        "y = peso_toronjas\n",
        "x = diametro_toronjas\n",
        "n = np.size(x)\n",
        "\n",
        "#entonces\n",
        "a = (n*np.sum(x*y) - np.sum(x)*np.sum(y))/(n*np.sum(x**2) - (np.sum(x))**2)\n",
        "b = np.mean(y) - a*np.mean(x)\n",
        "\n",
        "print(f'La pendiente es: {a}\\nLa intersección es {b}')\n",
        "\n",
        "#ahora lo grafico\n",
        "\n",
        "plt.plot(x,y)\n",
        "plt.plot(x, a*x + b)\n",
        "plt.ylabel('Peso')\n",
        "plt.xlabel('Diametro')\n",
        "plt.show()"
      ],
      "metadata": {
        "colab": {
          "base_uri": "https://localhost:8080/",
          "height": 950
        },
        "id": "m4VJVrYoPWQw",
        "outputId": "d2124944-7d9b-49dd-bc01-11677091ebe0"
      },
      "execution_count": 12,
      "outputs": [
        {
          "output_type": "stream",
          "name": "stdout",
          "text": [
            "La pendiente es: 14.7997452319846\n",
            "La intersección es 27.38560381218413\n"
          ]
        },
        {
          "output_type": "display_data",
          "data": {
            "text/plain": [
              "<Figure size 640x480 with 1 Axes>"
            ],
            "image/png": "[encoded data removed]"
          },
          "metadata": {}
        },
        {
          "output_type": "stream",
          "name": "stdout",
          "text": [
            "La pendiente es: 15.70884459360376\n",
            "La intersección es 17.007102876817726\n"
          ]
        },
        {
          "output_type": "display_data",
          "data": {
            "text/plain": [
              "<Figure size 640x480 with 1 Axes>"
            ],
            "image/png": "[encoded data removed]"
          },
          "metadata": {}
        }
      ]
    },
    {
      "cell_type": "markdown",
      "source": [
        "## Aplicando a Numpy"
      ],
      "metadata": {
        "id": "-QIrKIZ0rfPJ"
      }
    },
    {
      "cell_type": "markdown",
      "source": [
        "Has comenzado tus estudios con la biblioteca Numpy y decidiste usarla para reemplazar un cálculo que se realizaba con listas de Python. La lista que tienes en tus manos es la siguiente:"
      ],
      "metadata": {
        "id": "Ev6P5nI5rhP9"
      }
    },
    {
      "cell_type": "code",
      "source": [
        "x = [0,1,2,3,4,5,6,7,8,9,10]"
      ],
      "metadata": {
        "id": "m4T3mVu3rjoJ"
      },
      "execution_count": 15,
      "outputs": []
    },
    {
      "cell_type": "markdown",
      "source": [
        "Esta lista se estaba utilizando para calcular varios valores de \"y\" en la ecuación y = x + 3 / 2. ¿Cómo se vería el código en Numpy para reemplazar el siguiente fragmento de código?\n",
        "\n"
      ],
      "metadata": {
        "id": "8tePI0r2rmCw"
      }
    },
    {
      "cell_type": "code",
      "source": [
        "x = [0,1,2,3,4,5,6,7,8,9,10]\n",
        "y = []\n",
        "\n",
        "for i in x:\n",
        "  y.append(i + 3 / 2)"
      ],
      "metadata": {
        "id": "tY8RvSBPrqzC"
      },
      "execution_count": 16,
      "outputs": []
    },
    {
      "cell_type": "code",
      "source": [
        "y"
      ],
      "metadata": {
        "colab": {
          "base_uri": "https://localhost:8080/"
        },
        "id": "9NqgQbf_r76z",
        "outputId": "bd78cf87-e4ca-4193-b1e2-5b68d76efdcb"
      },
      "execution_count": 17,
      "outputs": [
        {
          "output_type": "execute_result",
          "data": {
            "text/plain": [
              "[1.5, 2.5, 3.5, 4.5, 5.5, 6.5, 7.5, 8.5, 9.5, 10.5, 11.5]"
            ]
          },
          "metadata": {},
          "execution_count": 17
        }
      ]
    },
    {
      "cell_type": "code",
      "source": [
        "import numpy as np\n",
        "x = [0,1,2,3,4,5,6,7,8,9,10]\n",
        "x = np.array(x)\n",
        "y = x + 3 / 2\n",
        "\n",
        "y"
      ],
      "metadata": {
        "colab": {
          "base_uri": "https://localhost:8080/"
        },
        "id": "4d78LslQsYe4",
        "outputId": "e8fa9558-0ac9-4ac2-80ee-395f66b48d84"
      },
      "execution_count": 20,
      "outputs": [
        {
          "output_type": "execute_result",
          "data": {
            "text/plain": [
              "array([ 1.5,  2.5,  3.5,  4.5,  5.5,  6.5,  7.5,  8.5,  9.5, 10.5, 11.5])"
            ]
          },
          "metadata": {},
          "execution_count": 20
        }
      ]
    },
    {
      "cell_type": "markdown",
      "source": [
        "Primero debemos importar la biblioteca y convertir la lista en un array. Luego podemos realizar el cálculo de manera normal. Esto nos dará un array con valores equivalentes al resultado con la lista de Python."
      ],
      "metadata": {
        "id": "CsT5ztaFsoJd"
      }
    },
    {
      "cell_type": "markdown",
      "source": [
        "Ha llegado el momento de poner a prueba los conocimientos adquiridos durante la lección. Continuando con el proyecto de las naranjas/toronjas, ahora debes calcular el coeficiente angular utilizando la generación de números aleatorios. Supongamos que ya conoces el valor de b y que este es igual a 17."
      ],
      "metadata": {
        "id": "MCPd8t3Ys2qs"
      }
    },
    {
      "cell_type": "code",
      "source": [
        "norma = np.array([])\n",
        "np.random.seed(84)\n",
        "\n",
        "coeficintes_angulares = np.random.uniform(low=0.0, high=30.0, size=100)\n",
        "\n",
        "for i in range(100):\n",
        "  norma = np.append(norma,np.linalg.norm(y-(coeficintes_angulares[i]*x + b)))\n",
        ""
      ],
      "metadata": {
        "id": "Vuy5kQIDs3Re"
      },
      "execution_count": 22,
      "outputs": []
    },
    {
      "cell_type": "code",
      "source": [
        "coeficintes_angulares"
      ],
      "metadata": {
        "colab": {
          "base_uri": "https://localhost:8080/"
        },
        "id": "JnqNJmhGtow-",
        "outputId": "061d8289-8666-4746-d23c-fa48ff25fae6"
      },
      "execution_count": 23,
      "outputs": [
        {
          "output_type": "execute_result",
          "data": {
            "text/plain": [
              "array([ 1.38122981, 11.10726948,  7.26954802, 18.85440015, 29.7033018 ,\n",
              "        3.91764148,  5.2076749 ,  7.74942173, 12.551969  ,  3.9305668 ,\n",
              "        8.71350376, 14.85918284, 29.01012944,  8.92169589, 19.55405809,\n",
              "       16.06838693, 26.61079143, 25.93794743, 28.21598469,  3.17499416,\n",
              "       18.39666959,  5.35772433,  2.22531178, 29.87798219, 10.68821932,\n",
              "       25.18423466, 19.14214247,  6.2887161 , 29.35280822,  4.15234091,\n",
              "       16.59669329,  8.00203135,  9.35075423,  9.92995032,  4.37492812,\n",
              "       24.62277514,  4.83352329, 14.95030108,  9.93094363,  5.84526794,\n",
              "        4.38982698, 20.60177977, 29.83857306,  8.54271236, 16.98575806,\n",
              "        3.60922643,  1.30088839,  4.73555879, 12.99042874, 11.31646296,\n",
              "        1.80529112, 18.74512405, 14.63389951, 12.35148368, 13.54604561,\n",
              "       16.5782834 , 28.04458097,  7.93242059,  0.53037966, 20.95237995,\n",
              "       24.22028342, 19.27028464, 15.82512199, 24.97090641, 10.53327999,\n",
              "        5.68690898,  0.51853556, 29.42174872, 24.33071825, 28.82385803,\n",
              "        0.3819315 ,  8.4934502 ,  6.8195916 ,  0.0819661 , 10.4688358 ,\n",
              "       13.19444647,  5.44591159, 15.23479681,  8.48406917, 28.56142166,\n",
              "       14.24557119,  7.80117928,  9.27036974,  0.64138088,  8.48044443,\n",
              "        7.73803418, 28.43813469, 21.68796718, 24.87150158, 17.20375632,\n",
              "        3.69858194, 17.37570081, 16.32640469, 14.48051899, 18.16933564,\n",
              "       16.16087747, 13.14333856, 21.41787055,  9.52972023,  9.71313571])"
            ]
          },
          "metadata": {},
          "execution_count": 23
        }
      ]
    },
    {
      "cell_type": "markdown",
      "source": [
        "En este código, se genera una serie de coeficientes angulares aleatorios y se calcula la norma de la diferencia entre Y y el valor calculado para cada coeficiente angular. Estos valores se almacenan en el array norma."
      ],
      "metadata": {
        "id": "FbYgMUf_uW3-"
      }
    }
  ]
}