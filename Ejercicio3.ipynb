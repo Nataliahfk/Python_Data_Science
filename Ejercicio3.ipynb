{
  "nbformat": 4,
  "nbformat_minor": 0,
  "metadata": {
    "colab": {
      "provenance": [],
      "authorship_tag": "ABX9TyNANWvww+uVejxz2GrwC69+",
      "include_colab_link": true
    },
    "kernelspec": {
      "name": "python3",
      "display_name": "Python 3"
    },
    "language_info": {
      "name": "python"
    }
  },
  "cells": [
    {
      "cell_type": "markdown",
      "metadata": {
        "id": "view-in-github",
        "colab_type": "text"
      },
      "source": [
        "<a href=\"https://colab.research.google.com/github/Nataliahfk/Python_Data_Science/blob/main/Ejercicio3.ipynb\" target=\"_parent\"><img src=\"https://colab.research.google.com/assets/colab-badge.svg\" alt=\"Open In Colab\"/></a>"
      ]
    },
    {
      "cell_type": "markdown",
      "source": [
        "1 - Escribe un programa que solicite dos números enteros e imprima todos los números enteros entre ellos.\n",
        "\n"
      ],
      "metadata": {
        "id": "JjJcvn5KWsuU"
      }
    },
    {
      "cell_type": "code",
      "source": [
        "# Recolectamos los valores de inicio y fin\n",
        "inicio = int(input('Ingresa el primer número entero: '))\n",
        "fin = int(input('Ingresa el segundo número entero: '))\n",
        "\n",
        "# Verificamos si el valor de inicio es menor que el fin\n",
        "if inicio < fin:\n",
        "  # Podemos imprimir los enteros entre el valor menor y el valor mayor\n",
        "  for i in range(inicio + 1, fin):\n",
        "    print(i)\n",
        "elif inicio > fin:\n",
        "  for i in range(fin + 1, inicio):\n",
        "    print(i)\n",
        "else: # En caso de que los números sean iguales, no podemos imprimir ninguna secuencia.\n",
        "  print('Los números son iguales.')"
      ],
      "metadata": {
        "colab": {
          "base_uri": "https://localhost:8080/"
        },
        "id": "9JAowasfaJaD",
        "outputId": "9c525b65-43de-4bf7-f094-c94ab7e4c29d"
      },
      "execution_count": 17,
      "outputs": [
        {
          "output_type": "stream",
          "name": "stdout",
          "text": [
            "Ingresa el primer número entero: 9\n",
            "Ingresa el segundo número entero: 5\n",
            "6\n",
            "7\n",
            "8\n"
          ]
        }
      ]
    },
    {
      "cell_type": "markdown",
      "source": [
        "2 - Escribe un programa para calcular cuántos días tomará que la colonia de una bacteria A supere o iguale a la colonia de una bacteria B, basado en tasas de crecimiento del 3% y 1.5%, respectivamente. Supón que la colonia A comienza con 4 elementos y B con 10.\n",
        "\n"
      ],
      "metadata": {
        "id": "n5KWL8gnZOxA"
      }
    },
    {
      "cell_type": "code",
      "source": [
        "# Número inicial de bacterias\n",
        "colonia_a = 4\n",
        "colonia_b = 10\n",
        "\n",
        "# Tasas de crecimiento de las colonias\n",
        "tasa_a = 0.03\n",
        "tasa_b = 0.015\n",
        "\n",
        "# Contador de días\n",
        "dias = 0\n",
        "\n",
        "# La condición que termina el bucle es cuando\n",
        "# la colonia A supera a la colonia B\n",
        "while colonia_a <= colonia_b:\n",
        "  # Usamos un operador de asignación con multiplicación\n",
        "  colonia_a *= 1+tasa_a\n",
        "  colonia_b *= 1+tasa_b\n",
        "  # Contamos los días en cada iteración\n",
        "  dias += 1\n",
        "\n",
        "# Resultado final\n",
        "print(f'Necesitará {dias} días para que la colonia A supere a la colonia B.')"
      ],
      "metadata": {
        "colab": {
          "base_uri": "https://localhost:8080/"
        },
        "id": "YOJwt7YRb_us",
        "outputId": "f229e340-eb65-49ad-eeca-c551418bfe7a"
      },
      "execution_count": 21,
      "outputs": [
        {
          "output_type": "stream",
          "name": "stdout",
          "text": [
            "Necesitará 63 días para que la colonia A supere a la colonia B.\n"
          ]
        }
      ]
    },
    {
      "cell_type": "markdown",
      "source": [
        "3 - Para procesar una cantidad de 15 datos de evaluaciones de usuarios de un servicio de la empresa, necesitamos verificar si las calificaciones son válidas. Por lo tanto, escribe un programa que recibirá calificaciones del 0 al 5 y verificará si son valores válidos. Si se ingresa una calificación superior a 5 o inferior a 0, se repetirá hasta que el usuario ingrese un valor válido.\n",
        "\n"
      ],
      "metadata": {
        "id": "N6uCmZYje0Ry"
      }
    },
    {
      "cell_type": "code",
      "source": [
        "# Bucle para recopilar las 15 notas\n",
        "for i in range(1,16):\n",
        "  nota = float(input(f'Ingresa la nota del usuario {i}: '))\n",
        "\n",
        "  # Verifica si la nota está entre 0 y 5\n",
        "  # Si no lo está, el bucle se repetirá hasta que se obtenga un valor válido\n",
        "  while (nota < 0) or (nota > 5):\n",
        "    nota = float(input(f'Nota no válida, ingresa nuevamente la nota del usuario {i}: '))\n",
        "\n",
        "print('Verificación completa. Todas las notas son válidas.')"
      ],
      "metadata": {
        "colab": {
          "base_uri": "https://localhost:8080/"
        },
        "id": "sMMB9gEse3YZ",
        "outputId": "4a63aa3c-4520-415b-acfb-77806deb1364"
      },
      "execution_count": 30,
      "outputs": [
        {
          "output_type": "stream",
          "name": "stdout",
          "text": [
            "Ingresa la nota del usuario 1: 4\n",
            "Ingresa la nota del usuario 2: 3\n",
            "Ingresa la nota del usuario 3: 2\n",
            "Ingresa la nota del usuario 4: 6\n",
            "Nota no válida, ingresa nuevamente la nota del usuario 4: 4\n",
            "Ingresa la nota del usuario 5: 3\n",
            "Ingresa la nota del usuario 6: 2\n",
            "Ingresa la nota del usuario 7: 1\n",
            "Ingresa la nota del usuario 8: 3\n",
            "Ingresa la nota del usuario 9: 3\n",
            "Ingresa la nota del usuario 10: 5\n",
            "Ingresa la nota del usuario 11: 4\n",
            "Ingresa la nota del usuario 12: 6\n",
            "Nota no válida, ingresa nuevamente la nota del usuario 12: 5\n",
            "Ingresa la nota del usuario 13: 5\n",
            "Ingresa la nota del usuario 14: 8\n",
            "Nota no válida, ingresa nuevamente la nota del usuario 14: 4\n",
            "Ingresa la nota del usuario 15: 9\n",
            "Nota no válida, ingresa nuevamente la nota del usuario 15: 8\n",
            "Nota no válida, ingresa nuevamente la nota del usuario 15: 6\n",
            "Nota no válida, ingresa nuevamente la nota del usuario 15: 3\n",
            "Verificación completa. Todas las notas son válidas.\n"
          ]
        }
      ]
    }
  ]
}